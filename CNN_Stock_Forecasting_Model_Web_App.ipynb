{
  "nbformat": 4,
  "nbformat_minor": 0,
  "metadata": {
    "colab": {
      "name": "CNN Stock Forecasting Model Web App",
      "provenance": [],
      "collapsed_sections": []
    },
    "kernelspec": {
      "name": "python3",
      "display_name": "Python 3"
    }
  },
  "cells": [
    {
      "cell_type": "markdown",
      "metadata": {
        "id": "gjR72Hbwcz2Q",
        "colab_type": "text"
      },
      "source": [
        "\n",
        "\n",
        "RNN (recurrent neural networks) is most famous for time series data prediction\n",
        "and LSTM is based on RNN but there's a fact that when we are feeding only historical data to our model to predict stock prices, models like LSTM often finds the pattern correctly but in terms of prediction accuracy it doesn't work well.\n",
        "\n",
        "* For example we can take Netflix stock price, it was going downwards at the \n",
        "beginning of this year but then corona hit the market and from then Netflix stock price is skyrocketing.\n",
        "\n",
        "* On the other hand CNN (convolutional neural networks) is build for finding patterns using different layers.\n",
        "\n",
        "Although CNN was not built for the specific time series prediction purpose, it performs well on time series data because of its different layers(in our case we can say 7 days as a layer) predicting method.\n",
        "\n",
        "\n",
        "\n",
        "I've noticed that as well with LSTMs, it seems to detect the overall pattern, but for the prediction, it would be nowhere near the last true price. \n",
        "\n",
        "* It seemed to be near the average of the historical data which wasn't too useful.\n",
        "\n",
        "* When I used a CNN it was able to create the predictions based off of the most recent prices."
      ]
    },
    {
      "cell_type": "markdown",
      "metadata": {
        "id": "P4iPZCmi6Vz4",
        "colab_type": "text"
      },
      "source": [
        "\n",
        "A lot of the data now isn’t indicative of traditional historical prices and it might be better to have something that’s closer to the most recent stock price just because of how much unknown there is in general so a CNN might be best."
      ]
    },
    {
      "cell_type": "markdown",
      "metadata": {
        "id": "jUHVCu9Vf5GR",
        "colab_type": "text"
      },
      "source": [
        "##          Stock price forecasting model (For 7 days)\n",
        "We are going to make a machine learning model that can predict stock prices for 7 days. As we are getting our data through an API and by analyzing those data (Historical data) we are going to predict the next 7 days stock price, we can categorize this machine learning model as a supervised machine learning model. This particular problem can also be defined as time series data prediction model as the data is changing chronologically. The data we are getting from the API is labelled data. The labels are \n",
        "1.\tOpen\n",
        "2.\tHigh\n",
        "3.\tLow\n",
        "4.\tClose\n",
        "5.\tVolume\n",
        "\n",
        "We are going to predict the Closing price. \n",
        "There are many popular algorithms established in the market that can predict stock prices like MLP (Multilayer perceptions), RNN (Recursive neural networks), LSTM (Long short-term memory), CNN (Convolutional neural networks). For this project we are going to use CNN algorithm-based model.\n",
        "\n",
        "CNN algorithm is a deep learning algorithm that was originally developed to process image data but recently it shows amazing results in predicting sequential data analysis (time series data analysis), which is exactly the type of data we are working with in this project.\n",
        "\n",
        "We can describe our procedure in some steps:\n",
        "-\tGetting the data through API (we are using alphavantage API): We are using the data of Microsoft company’s stock price.\n",
        "-\tPreprocessing the data\n",
        "-\tEDA (exploratory data analysis): In this case we can divide our EDA process in two parts (1) Cleaning the data (2) Visualizing the data\n",
        "-\tCreating features\n",
        "-\tSetting up the model (CNN model): (1) First we have to construct the model layers (2) Fit the model with the data taken through the API and processed with.\n",
        "-\tPredicting the stock price\n",
        "-\tVisualizing our prediction\n",
        "-\tDeployment of our model\n",
        "\n"
      ]
    },
    {
      "cell_type": "markdown",
      "metadata": {
        "id": "1Mf5YoaudOAD",
        "colab_type": "text"
      },
      "source": [
        "### First, we import the essential data science libraries we will use throughout this project."
      ]
    },
    {
      "cell_type": "code",
      "metadata": {
        "id": "ic68UQl8cdfO",
        "colab_type": "code",
        "colab": {
          "base_uri": "https://localhost:8080/",
          "height": 71
        },
        "outputId": "cb9e8db0-91c9-4513-d000-a408b4480fc4"
      },
      "source": [
        "# Importing the essential libraries for our CNN model\n",
        "import numpy as np #It does fast computations with arrays. As NumPy uses the c programming language in the backend it computes faster. \n",
        "import pandas as pd #To work with our dataframe. To manipulate them and save data into optimized dataframes\n",
        "import matplotlib.pyplot as plt #create custom visualizations/plots of the data\n",
        "import seaborn as sns; sns.set() #sets the style of plots"
      ],
      "execution_count": null,
      "outputs": [
        {
          "output_type": "stream",
          "text": [
            "/usr/local/lib/python3.6/dist-packages/statsmodels/tools/_testing.py:19: FutureWarning: pandas.util.testing is deprecated. Use the functions in the public API at pandas.testing instead.\n",
            "  import pandas.util.testing as tm\n"
          ],
          "name": "stderr"
        }
      ]
    },
    {
      "cell_type": "markdown",
      "metadata": {
        "id": "z8lvNpGESCOA",
        "colab_type": "text"
      },
      "source": [
        "### Getting the Data"
      ]
    },
    {
      "cell_type": "code",
      "metadata": {
        "id": "pvppUyWwSFNL",
        "colab_type": "code",
        "colab": {
          "base_uri": "https://localhost:8080/",
          "height": 54
        },
        "outputId": "6358a604-8fa5-47e3-a115-9390e5d5ab37"
      },
      "source": [
        "#This code pulls the data from the alphavantage API \n",
        "#Right now it is just microsoft's data\n",
        "import requests\n",
        "API_KEY = 'FYEEXVSKRKYAO1VI'\n",
        "ticker=\"MSFT\"\n",
        "r = requests.get(\"https://www.alphavantage.co/query?function=TIME_SERIES_DAILY&symbol=\"+ticker+\"&apikey=\"+API_KEY)\n",
        "if (r.status_code == 200):\n",
        "  print(r.json())"
      ],
      "execution_count": null,
      "outputs": [
        {
          "output_type": "stream",
          "text": [
            "{'Meta Data': {'1. Information': 'Daily Prices (open, high, low, close) and Volumes', '2. Symbol': 'MSFT', '3. Last Refreshed': '2020-09-22', '4. Output Size': 'Compact', '5. Time Zone': 'US/Eastern'}, 'Time Series (Daily)': {'2020-09-22': {'1. open': '205.0600', '2. high': '208.1000', '3. low': '202.0750', '4. close': '207.4200', '5. volume': '33223556'}, '2020-09-21': {'1. open': '197.1900', '2. high': '202.7100', '3. low': '196.3800', '4. close': '202.5400', '5. volume': '39839657'}, '2020-09-18': {'1. open': '202.8000', '2. high': '203.6500', '3. low': '196.2500', '4. close': '200.3900', '5. volume': '55225326'}, '2020-09-17': {'1. open': '200.0500', '2. high': '204.3300', '3. low': '199.9600', '4. close': '202.9100', '5. volume': '34011257'}, '2020-09-16': {'1. open': '210.6200', '2. high': '210.6500', '3. low': '204.6400', '4. close': '205.0500', '5. volume': '26372464'}, '2020-09-15': {'1. open': '208.4200', '2. high': '209.7800', '3. low': '206.9300', '4. close': '208.7800', '5. volume': '21823942'}, '2020-09-14': {'1. open': '204.2400', '2. high': '209.2000', '3. low': '204.0300', '4. close': '205.4100', '5. volume': '30375768'}, '2020-09-11': {'1. open': '207.2000', '2. high': '208.6300', '3. low': '201.2400', '4. close': '204.0300', '5. volume': '33620073'}, '2020-09-10': {'1. open': '213.4000', '2. high': '214.7400', '3. low': '204.1100', '4. close': '205.3700', '5. volume': '35461514'}, '2020-09-09': {'1. open': '207.6000', '2. high': '214.8399', '3. low': '206.7000', '4. close': '211.2900', '5. volume': '45678986'}, '2020-09-08': {'1. open': '206.5000', '2. high': '210.0300', '3. low': '202.2000', '4. close': '202.6600', '5. volume': '52924330'}, '2020-09-04': {'1. open': '215.1000', '2. high': '218.3599', '3. low': '205.1900', '4. close': '214.2500', '5. volume': '59664072'}, '2020-09-03': {'1. open': '229.2700', '2. high': '229.3100', '3. low': '214.9602', '4. close': '217.3000', '5. volume': '58400288'}, '2020-09-02': {'1. open': '227.9700', '2. high': '232.8600', '3. low': '227.3500', '4. close': '231.6500', '5. volume': '34080839'}, '2020-09-01': {'1. open': '225.5100', '2. high': '227.4500', '3. low': '224.4300', '4. close': '227.2700', '5. volume': '25791235'}, '2020-08-31': {'1. open': '227.0000', '2. high': '228.7000', '3. low': '224.3100', '4. close': '225.5300', '5. volume': '28774156'}, '2020-08-28': {'1. open': '228.1800', '2. high': '230.6440', '3. low': '226.5800', '4. close': '228.9100', '5. volume': '26292896'}, '2020-08-27': {'1. open': '222.8900', '2. high': '231.1500', '3. low': '219.4000', '4. close': '226.5800', '5. volume': '57602195'}, '2020-08-26': {'1. open': '217.8800', '2. high': '222.0900', '3. low': '217.3600', '4. close': '221.1500', '5. volume': '39600828'}, '2020-08-25': {'1. open': '213.1000', '2. high': '216.6100', '3. low': '213.1000', '4. close': '216.4700', '5. volume': '23043696'}, '2020-08-24': {'1. open': '214.7900', '2. high': '215.5200', '3. low': '212.4300', '4. close': '213.6900', '5. volume': '25460147'}, '2020-08-21': {'1. open': '213.8600', '2. high': '216.2500', '3. low': '212.8500', '4. close': '213.0200', '5. volume': '36249319'}, '2020-08-20': {'1. open': '209.5400', '2. high': '215.0000', '3. low': '208.9100', '4. close': '214.5800', '5. volume': '26981478'}, '2020-08-19': {'1. open': '211.4900', '2. high': '212.1000', '3. low': '209.2500', '4. close': '209.7000', '5. volume': '27627561'}, '2020-08-18': {'1. open': '210.5300', '2. high': '212.3600', '3. low': '209.2100', '4. close': '211.4900', '5. volume': '21336167'}, '2020-08-17': {'1. open': '209.6000', '2. high': '211.1874', '3. low': '208.9150', '4. close': '210.2800', '5. volume': '20063496'}, '2020-08-14': {'1. open': '208.7600', '2. high': '209.5900', '3. low': '207.5100', '4. close': '208.9000', '5. volume': '17958936'}, '2020-08-13': {'1. open': '209.4400', '2. high': '211.3500', '3. low': '208.1500', '4. close': '208.7000', '5. volume': '22588870'}, '2020-08-12': {'1. open': '205.2900', '2. high': '210.2800', '3. low': '204.7500', '4. close': '209.1900', '5. volume': '28041364'}, '2020-08-11': {'1. open': '207.1550', '2. high': '207.6500', '3. low': '203.1400', '4. close': '203.3800', '5. volume': '36446459'}, '2020-08-10': {'1. open': '211.6700', '2. high': '211.8800', '3. low': '206.3500', '4. close': '208.2500', '5. volume': '36716462'}, '2020-08-07': {'1. open': '214.8500', '2. high': '215.7000', '3. low': '210.9300', '4. close': '212.4800', '5. volume': '27820421'}, '2020-08-06': {'1. open': '212.3400', '2. high': '216.3705', '3. low': '211.5500', '4. close': '216.3500', '5. volume': '32656843'}, '2020-08-05': {'1. open': '214.9000', '2. high': '215.0000', '3. low': '211.5700', '4. close': '212.9400', '5. volume': '28858621'}, '2020-08-04': {'1. open': '214.1700', '2. high': '214.7700', '3. low': '210.3100', '4. close': '213.2900', '5. volume': '49280056'}, '2020-08-03': {'1. open': '211.5200', '2. high': '217.6400', '3. low': '210.4400', '4. close': '216.5400', '5. volume': '78983009'}, '2020-07-31': {'1. open': '204.4000', '2. high': '205.1000', '3. low': '199.0100', '4. close': '205.0100', '5. volume': '51247969'}, '2020-07-30': {'1. open': '201.0000', '2. high': '204.4600', '3. low': '199.5700', '4. close': '203.9000', '5. volume': '25079596'}, '2020-07-29': {'1. open': '202.5000', '2. high': '204.6500', '3. low': '202.0100', '4. close': '204.0600', '5. volume': '19632602'}, '2020-07-28': {'1. open': '203.6100', '2. high': '204.7000', '3. low': '201.7400', '4. close': '202.0200', '5. volume': '23251388'}, '2020-07-27': {'1. open': '201.4700', '2. high': '203.9700', '3. low': '200.8600', '4. close': '203.8500', '5. volume': '30160867'}, '2020-07-24': {'1. open': '200.4200', '2. high': '202.8600', '3. low': '197.5100', '4. close': '201.3000', '5. volume': '39826989'}, '2020-07-23': {'1. open': '207.1900', '2. high': '210.9200', '3. low': '202.1500', '4. close': '202.5400', '5. volume': '67457035'}, '2020-07-22': {'1. open': '209.2000', '2. high': '212.3000', '3. low': '208.3900', '4. close': '211.7500', '5. volume': '49605692'}, '2020-07-21': {'1. open': '213.6600', '2. high': '213.9400', '3. low': '208.0300', '4. close': '208.7500', '5. volume': '37702523'}, '2020-07-20': {'1. open': '205.0000', '2. high': '212.3000', '3. low': '203.0100', '4. close': '211.6000', '5. volume': '36386080'}, '2020-07-17': {'1. open': '204.4700', '2. high': '205.0400', '3. low': '201.3900', '4. close': '202.8800', '5. volume': '31636070'}, '2020-07-16': {'1. open': '205.4000', '2. high': '205.7000', '3. low': '202.3100', '4. close': '203.9200', '5. volume': '29940718'}, '2020-07-15': {'1. open': '209.5600', '2. high': '211.3300', '3. low': '205.0300', '4. close': '208.0400', '5. volume': '32248893'}, '2020-07-14': {'1. open': '206.1300', '2. high': '208.8500', '3. low': '202.0300', '4. close': '208.3500', '5. volume': '37598121'}, '2020-07-13': {'1. open': '214.4800', '2. high': '215.8000', '3. low': '206.5000', '4. close': '207.0700', '5. volume': '38135816'}, '2020-07-10': {'1. open': '213.6200', '2. high': '214.0800', '3. low': '211.0800', '4. close': '213.6700', '5. volume': '26178663'}, '2020-07-09': {'1. open': '216.3300', '2. high': '216.3800', '3. low': '211.4700', '4. close': '214.3200', '5. volume': '33122280'}, '2020-07-08': {'1. open': '210.0700', '2. high': '213.2600', '3. low': '208.6900', '4. close': '212.8300', '5. volume': '33602226'}, '2020-07-07': {'1. open': '210.4500', '2. high': '214.6700', '3. low': '207.9900', '4. close': '208.2500', '5. volume': '33600749'}, '2020-07-06': {'1. open': '208.8300', '2. high': '211.1300', '3. low': '208.0900', '4. close': '210.7000', '5. volume': '32033747'}, '2020-07-02': {'1. open': '205.6800', '2. high': '208.0200', '3. low': '205.0000', '4. close': '206.2600', '5. volume': '29322547'}, '2020-07-01': {'1. open': '203.1400', '2. high': '206.3500', '3. low': '201.7700', '4. close': '204.7000', '5. volume': '32071431'}, '2020-06-30': {'1. open': '197.8800', '2. high': '204.4000', '3. low': '197.7400', '4. close': '203.5100', '5. volume': '34310283'}, '2020-06-29': {'1. open': '195.7800', '2. high': '198.5300', '3. low': '193.5500', '4. close': '198.4400', '5. volume': '26701586'}, '2020-06-26': {'1. open': '199.7300', '2. high': '199.8900', '3. low': '194.8800', '4. close': '196.3300', '5. volume': '54675780'}, '2020-06-25': {'1. open': '197.8000', '2. high': '200.6100', '3. low': '195.4700', '4. close': '200.3400', '5. volume': '27803933'}, '2020-06-24': {'1. open': '201.6000', '2. high': '203.2500', '3. low': '196.5600', '4. close': '197.8400', '5. volume': '36740647'}, '2020-06-23': {'1. open': '202.0900', '2. high': '203.9500', '3. low': '201.4300', '4. close': '201.9100', '5. volume': '30917447'}, '2020-06-22': {'1. open': '195.7900', '2. high': '200.7600', '3. low': '195.2300', '4. close': '200.5700', '5. volume': '32818929'}, '2020-06-19': {'1. open': '198.5900', '2. high': '199.2900', '3. low': '194.3700', '4. close': '195.1500', '5. volume': '44441141'}, '2020-06-18': {'1. open': '194.0000', '2. high': '196.4900', '3. low': '194.0000', '4. close': '196.3200', '5. volume': '23061648'}, '2020-06-17': {'1. open': '195.0300', '2. high': '196.3200', '3. low': '193.6900', '4. close': '194.2400', '5. volume': '25687822'}, '2020-06-16': {'1. open': '192.8900', '2. high': '195.5800', '3. low': '191.4600', '4. close': '193.5700', '5. volume': '42556656'}, '2020-06-15': {'1. open': '184.5800', '2. high': '190.8200', '3. low': '184.0100', '4. close': '188.9400', '5. volume': '32770189'}, '2020-06-12': {'1. open': '190.5400', '2. high': '191.7200', '3. low': '185.1800', '4. close': '187.7400', '5. volume': '43373587'}, '2020-06-11': {'1. open': '193.1300', '2. high': '195.7600', '3. low': '186.0700', '4. close': '186.2700', '5. volume': '52854672'}, '2020-06-10': {'1. open': '191.1300', '2. high': '198.5200', '3. low': '191.0100', '4. close': '196.8400', '5. volume': '43872329'}, '2020-06-09': {'1. open': '188.0000', '2. high': '190.7000', '3. low': '187.2600', '4. close': '189.8000', '5. volume': '29783916'}, '2020-06-08': {'1. open': '185.9400', '2. high': '188.5500', '3. low': '184.4400', '4. close': '188.3600', '5. volume': '33211590'}, '2020-06-05': {'1. open': '182.6200', '2. high': '187.7300', '3. low': '182.0100', '4. close': '187.2000', '5. volume': '39893643'}, '2020-06-04': {'1. open': '184.3000', '2. high': '185.8400', '3. low': '182.3000', '4. close': '182.9200', '5. volume': '28761809'}, '2020-06-03': {'1. open': '184.8200', '2. high': '185.9400', '3. low': '183.5800', '4. close': '185.3600', '5. volume': '27311016'}, '2020-06-02': {'1. open': '184.2500', '2. high': '185.0000', '3. low': '181.3500', '4. close': '184.9100', '5. volume': '30794585'}, '2020-06-01': {'1. open': '182.5400', '2. high': '183.0000', '3. low': '181.4600', '4. close': '182.8300', '5. volume': '22668821'}, '2020-05-29': {'1. open': '182.7300', '2. high': '184.2700', '3. low': '180.4100', '4. close': '183.2500', '5. volume': '42146720'}, '2020-05-28': {'1. open': '180.7400', '2. high': '184.1500', '3. low': '180.3800', '4. close': '181.4000', '5. volume': '33831824'}, '2020-05-27': {'1. open': '180.2000', '2. high': '181.9900', '3. low': '176.6000', '4. close': '181.8100', '5. volume': '39517146'}, '2020-05-26': {'1. open': '186.3400', '2. high': '186.5000', '3. low': '181.1000', '4. close': '181.5700', '5. volume': '36073609'}, '2020-05-22': {'1. open': '183.1900', '2. high': '184.4600', '3. low': '182.5400', '4. close': '183.5100', '5. volume': '20826898'}, '2020-05-21': {'1. open': '185.4000', '2. high': '186.6700', '3. low': '183.2900', '4. close': '183.4300', '5. volume': '29032741'}, '2020-05-20': {'1. open': '184.8100', '2. high': '185.8500', '3. low': '183.9400', '4. close': '185.6600', '5. volume': '31261334'}, '2020-05-19': {'1. open': '185.0300', '2. high': '186.6000', '3. low': '183.4900', '4. close': '183.6300', '5. volume': '26799116'}, '2020-05-18': {'1. open': '185.7500', '2. high': '186.2000', '3. low': '183.9600', '4. close': '184.9100', '5. volume': '35306620'}, '2020-05-15': {'1. open': '179.0600', '2. high': '187.0600', '3. low': '177.0000', '4. close': '183.1600', '5. volume': '46610382'}, '2020-05-14': {'1. open': '177.5400', '2. high': '180.6900', '3. low': '175.6800', '4. close': '180.5300', '5. volume': '41873911'}, '2020-05-13': {'1. open': '182.5500', '2. high': '184.0500', '3. low': '176.5400', '4. close': '179.7500', '5. volume': '44711488'}, '2020-05-12': {'1. open': '186.8000', '2. high': '187.0400', '3. low': '182.3000', '4. close': '182.5100', '5. volume': '32038199'}, '2020-05-11': {'1. open': '183.1500', '2. high': '187.5100', '3. low': '182.8500', '4. close': '186.7400', '5. volume': '30892660'}, '2020-05-08': {'1. open': '184.9800', '2. high': '185.0000', '3. low': '183.3600', '4. close': '184.6800', '5. volume': '30912638'}, '2020-05-07': {'1. open': '184.1700', '2. high': '184.5500', '3. low': '182.5800', '4. close': '183.6000', '5. volume': '28315992'}, '2020-05-06': {'1. open': '182.0800', '2. high': '184.2000', '3. low': '181.6300', '4. close': '182.5400', '5. volume': '32139299'}, '2020-05-05': {'1. open': '180.6200', '2. high': '183.6500', '3. low': '179.9000', '4. close': '180.7600', '5. volume': '36839168'}, '2020-05-04': {'1. open': '174.4900', '2. high': '179.0000', '3. low': '173.8000', '4. close': '178.8400', '5. volume': '30372862'}, '2020-05-01': {'1. open': '175.8000', '2. high': '178.6400', '3. low': '174.0100', '4. close': '174.5700', '5. volume': '39370474'}}}\n"
          ],
          "name": "stdout"
        }
      ]
    },
    {
      "cell_type": "markdown",
      "metadata": {
        "id": "2xR8dFO_YKaN",
        "colab_type": "text"
      },
      "source": [
        "Helper function for cleaning the data"
      ]
    },
    {
      "cell_type": "code",
      "metadata": {
        "id": "kHAOWviGSone",
        "colab_type": "code",
        "colab": {}
      },
      "source": [
        "def clean_data(data):\n",
        "    #Raw data from API \n",
        "    df = pd.DataFrame.from_dict(data, orient=\"index\")\n",
        "    #Transposing Data and Taking column with data\n",
        "    df2 = (df.T['Time Series (Daily)'])\n",
        "    #Dropping all NAs\n",
        "    df2 = df2.dropna()\n",
        "    df_convert = df2.to_frame()\n",
        "    #We will take the data from this and use it to index our dataframe \n",
        "    df_index = list(df_convert.index)\n",
        "    #Convert to cleaned dataframe \n",
        "    df2 = pd.json_normalize(df2)\n",
        "    #We add this list to the dataframe with our actual data\n",
        "    df2['Index'] = df_index\n",
        "    #We then set the index column as our actual index\n",
        "    df2 = df2.set_index('Index')\n",
        "    #Put the data in the correct order\n",
        "    df2 = df2[::-1]\n",
        "    return df2"
      ],
      "execution_count": null,
      "outputs": []
    },
    {
      "cell_type": "code",
      "metadata": {
        "id": "K3-T6xATYRr2",
        "colab_type": "code",
        "colab": {}
      },
      "source": [
        "df=clean_data(r.json())"
      ],
      "execution_count": null,
      "outputs": []
    },
    {
      "cell_type": "code",
      "metadata": {
        "id": "8j7hAmmoYXt3",
        "colab_type": "code",
        "colab": {
          "base_uri": "https://localhost:8080/",
          "height": 450
        },
        "outputId": "694db59f-faec-44f1-e036-b6619dc79e69"
      },
      "source": [
        "df"
      ],
      "execution_count": null,
      "outputs": [
        {
          "output_type": "execute_result",
          "data": {
            "text/html": [
              "<div>\n",
              "<style scoped>\n",
              "    .dataframe tbody tr th:only-of-type {\n",
              "        vertical-align: middle;\n",
              "    }\n",
              "\n",
              "    .dataframe tbody tr th {\n",
              "        vertical-align: top;\n",
              "    }\n",
              "\n",
              "    .dataframe thead th {\n",
              "        text-align: right;\n",
              "    }\n",
              "</style>\n",
              "<table border=\"1\" class=\"dataframe\">\n",
              "  <thead>\n",
              "    <tr style=\"text-align: right;\">\n",
              "      <th></th>\n",
              "      <th>1. open</th>\n",
              "      <th>2. high</th>\n",
              "      <th>3. low</th>\n",
              "      <th>4. close</th>\n",
              "      <th>5. volume</th>\n",
              "    </tr>\n",
              "    <tr>\n",
              "      <th>Index</th>\n",
              "      <th></th>\n",
              "      <th></th>\n",
              "      <th></th>\n",
              "      <th></th>\n",
              "      <th></th>\n",
              "    </tr>\n",
              "  </thead>\n",
              "  <tbody>\n",
              "    <tr>\n",
              "      <th>2020-05-01</th>\n",
              "      <td>175.8000</td>\n",
              "      <td>178.6400</td>\n",
              "      <td>174.0100</td>\n",
              "      <td>174.5700</td>\n",
              "      <td>39370474</td>\n",
              "    </tr>\n",
              "    <tr>\n",
              "      <th>2020-05-04</th>\n",
              "      <td>174.4900</td>\n",
              "      <td>179.0000</td>\n",
              "      <td>173.8000</td>\n",
              "      <td>178.8400</td>\n",
              "      <td>30372862</td>\n",
              "    </tr>\n",
              "    <tr>\n",
              "      <th>2020-05-05</th>\n",
              "      <td>180.6200</td>\n",
              "      <td>183.6500</td>\n",
              "      <td>179.9000</td>\n",
              "      <td>180.7600</td>\n",
              "      <td>36839168</td>\n",
              "    </tr>\n",
              "    <tr>\n",
              "      <th>2020-05-06</th>\n",
              "      <td>182.0800</td>\n",
              "      <td>184.2000</td>\n",
              "      <td>181.6300</td>\n",
              "      <td>182.5400</td>\n",
              "      <td>32139299</td>\n",
              "    </tr>\n",
              "    <tr>\n",
              "      <th>2020-05-07</th>\n",
              "      <td>184.1700</td>\n",
              "      <td>184.5500</td>\n",
              "      <td>182.5800</td>\n",
              "      <td>183.6000</td>\n",
              "      <td>28315992</td>\n",
              "    </tr>\n",
              "    <tr>\n",
              "      <th>...</th>\n",
              "      <td>...</td>\n",
              "      <td>...</td>\n",
              "      <td>...</td>\n",
              "      <td>...</td>\n",
              "      <td>...</td>\n",
              "    </tr>\n",
              "    <tr>\n",
              "      <th>2020-09-16</th>\n",
              "      <td>210.6200</td>\n",
              "      <td>210.6500</td>\n",
              "      <td>204.6400</td>\n",
              "      <td>205.0500</td>\n",
              "      <td>26372464</td>\n",
              "    </tr>\n",
              "    <tr>\n",
              "      <th>2020-09-17</th>\n",
              "      <td>200.0500</td>\n",
              "      <td>204.3300</td>\n",
              "      <td>199.9600</td>\n",
              "      <td>202.9100</td>\n",
              "      <td>34011257</td>\n",
              "    </tr>\n",
              "    <tr>\n",
              "      <th>2020-09-18</th>\n",
              "      <td>202.8000</td>\n",
              "      <td>203.6500</td>\n",
              "      <td>196.2500</td>\n",
              "      <td>200.3900</td>\n",
              "      <td>55225326</td>\n",
              "    </tr>\n",
              "    <tr>\n",
              "      <th>2020-09-21</th>\n",
              "      <td>197.1900</td>\n",
              "      <td>202.7100</td>\n",
              "      <td>196.3800</td>\n",
              "      <td>202.5400</td>\n",
              "      <td>39839657</td>\n",
              "    </tr>\n",
              "    <tr>\n",
              "      <th>2020-09-22</th>\n",
              "      <td>205.0600</td>\n",
              "      <td>208.1000</td>\n",
              "      <td>202.0750</td>\n",
              "      <td>207.4200</td>\n",
              "      <td>33223556</td>\n",
              "    </tr>\n",
              "  </tbody>\n",
              "</table>\n",
              "<p>100 rows × 5 columns</p>\n",
              "</div>"
            ],
            "text/plain": [
              "             1. open   2. high    3. low  4. close 5. volume\n",
              "Index                                                       \n",
              "2020-05-01  175.8000  178.6400  174.0100  174.5700  39370474\n",
              "2020-05-04  174.4900  179.0000  173.8000  178.8400  30372862\n",
              "2020-05-05  180.6200  183.6500  179.9000  180.7600  36839168\n",
              "2020-05-06  182.0800  184.2000  181.6300  182.5400  32139299\n",
              "2020-05-07  184.1700  184.5500  182.5800  183.6000  28315992\n",
              "...              ...       ...       ...       ...       ...\n",
              "2020-09-16  210.6200  210.6500  204.6400  205.0500  26372464\n",
              "2020-09-17  200.0500  204.3300  199.9600  202.9100  34011257\n",
              "2020-09-18  202.8000  203.6500  196.2500  200.3900  55225326\n",
              "2020-09-21  197.1900  202.7100  196.3800  202.5400  39839657\n",
              "2020-09-22  205.0600  208.1000  202.0750  207.4200  33223556\n",
              "\n",
              "[100 rows x 5 columns]"
            ]
          },
          "metadata": {
            "tags": []
          },
          "execution_count": 5
        }
      ]
    },
    {
      "cell_type": "code",
      "metadata": {
        "id": "NYFJJsIw2IIJ",
        "colab_type": "code",
        "colab": {}
      },
      "source": [
        "#pd.options.display.max_rows=100 #This is the code to display max rows"
      ],
      "execution_count": null,
      "outputs": []
    },
    {
      "cell_type": "code",
      "metadata": {
        "id": "M6KeGPUH2kl3",
        "colab_type": "code",
        "colab": {}
      },
      "source": [
        "#df #since there is only 100 rows I want to manually check to see if there are any irregularities or potential nan values"
      ],
      "execution_count": null,
      "outputs": []
    },
    {
      "cell_type": "markdown",
      "metadata": {
        "id": "EASx3bE8iJMp",
        "colab_type": "text"
      },
      "source": [
        "### Processing the Data and Generating Features"
      ]
    },
    {
      "cell_type": "markdown",
      "metadata": {
        "id": "s2BU90LkJ5R_",
        "colab_type": "text"
      },
      "source": [
        "Checking the column data types"
      ]
    },
    {
      "cell_type": "code",
      "metadata": {
        "id": "bFB4Uud9J6vq",
        "colab_type": "code",
        "colab": {
          "base_uri": "https://localhost:8080/",
          "height": 119
        },
        "outputId": "d6560f29-20f4-4926-88b9-f809c3221962"
      },
      "source": [
        "df.dtypes #check data types of each column"
      ],
      "execution_count": null,
      "outputs": [
        {
          "output_type": "execute_result",
          "data": {
            "text/plain": [
              "1. open      object\n",
              "2. high      object\n",
              "3. low       object\n",
              "4. close     object\n",
              "5. volume    object\n",
              "dtype: object"
            ]
          },
          "metadata": {
            "tags": []
          },
          "execution_count": 8
        }
      ]
    },
    {
      "cell_type": "markdown",
      "metadata": {
        "id": "OgqnKxzhJ9C4",
        "colab_type": "text"
      },
      "source": [
        "We need to convert the index to a datetime object and the other columns to numbers:"
      ]
    },
    {
      "cell_type": "code",
      "metadata": {
        "id": "hVmMF0ZgC_6L",
        "colab_type": "code",
        "colab": {}
      },
      "source": [
        "def conv_types(data):\n",
        "    data.index=pd.to_datetime(data.index) #convert the index to a datetime object for plotting\n",
        "    #convert each column to integers for plotting and model input\n",
        "    data['1. open']=pd.to_numeric(data['1. open'])\n",
        "    data['2. high']=pd.to_numeric(data['2. high'])\n",
        "    data['3. low']=pd.to_numeric(data['3. low'])\n",
        "    data['4. close']=pd.to_numeric(data['4. close'])\n",
        "    data['5. volume']=pd.to_numeric(data['5. volume'])\n",
        "    return df"
      ],
      "execution_count": null,
      "outputs": []
    },
    {
      "cell_type": "code",
      "metadata": {
        "id": "haAx5cmlYova",
        "colab_type": "code",
        "colab": {}
      },
      "source": [
        "df=conv_types(df)"
      ],
      "execution_count": null,
      "outputs": []
    },
    {
      "cell_type": "code",
      "metadata": {
        "id": "-dyrnTTKCx-o",
        "colab_type": "code",
        "colab": {
          "base_uri": "https://localhost:8080/",
          "height": 119
        },
        "outputId": "511a78da-5f74-46ee-a7fd-c470d7f57423"
      },
      "source": [
        "df.dtypes #verify type conversions"
      ],
      "execution_count": null,
      "outputs": [
        {
          "output_type": "execute_result",
          "data": {
            "text/plain": [
              "1. open      float64\n",
              "2. high      float64\n",
              "3. low       float64\n",
              "4. close     float64\n",
              "5. volume      int64\n",
              "dtype: object"
            ]
          },
          "metadata": {
            "tags": []
          },
          "execution_count": 11
        }
      ]
    },
    {
      "cell_type": "code",
      "metadata": {
        "id": "u8BjATR7CEHy",
        "colab_type": "code",
        "colab": {}
      },
      "source": [
        "def plot_data(data):\n",
        "    plt.figure(figsize=(22,6)) #set the size of the figure\n",
        "    plt.subplot(1,2,1)\n",
        "    #create two subplots - one for daily prices, one for daily volume\n",
        "    plt.plot(data['1. open'], color='blue', label=\"Open\")\n",
        "    plt.plot(data['2. high'], color='green', label=\"High\")\n",
        "    plt.plot(data['3. low'], color='red', label=\"Low\")\n",
        "    plt.plot(data['4. close'], color='purple', label=\"Close\")\n",
        "    plt.title(str(\"Microsoft ($MSFT) Daily Stock Price\\n\"+str(data.index[0].date())+\" to \"+str(data.index[-1].date())))\n",
        "    plt.xlabel(\"Date\")\n",
        "    plt.ylabel(\"Price in USD\")\n",
        "    plt.legend()\n",
        "\n",
        "    plt.subplot(1,2,2)\n",
        "    plt.plot(data['5. volume'], color='orange', label=\"Volume\")\n",
        "    plt.title(str(\"Microsoft ($MSFT) Daily Trading Volume\\n\"+str(data.index[0].date())+\" to \"+str(data.index[-1].date())))\n",
        "    plt.xlabel(\"Date\")\n",
        "    plt.ylabel(\"Trading Volume in millions\")\n",
        "    plt.show()"
      ],
      "execution_count": null,
      "outputs": []
    },
    {
      "cell_type": "code",
      "metadata": {
        "id": "89QlJg71iO3h",
        "colab_type": "code",
        "colab": {
          "base_uri": "https://localhost:8080/",
          "height": 295
        },
        "outputId": "e175fcef-1204-4d1f-bab1-97ce927cca24"
      },
      "source": [
        "plot_data(df)"
      ],
      "execution_count": null,
      "outputs": [
        {
          "output_type": "display_data",
          "data": {
            "image/png": "[encoded data removed]",
            "text/plain": [
              "<Figure size 1584x432 with 2 Axes>"
            ]
          },
          "metadata": {
            "tags": [],
            "needs_background": "light"
          }
        }
      ]
    },
    {
      "cell_type": "markdown",
      "metadata": {
        "id": "6AgpgF97ckyL",
        "colab_type": "text"
      },
      "source": [
        "## Setting up the Model"
      ]
    },
    {
      "cell_type": "markdown",
      "metadata": {
        "id": "uhrzgGTm6Suq",
        "colab_type": "text"
      },
      "source": [
        "### Preprocessing"
      ]
    },
    {
      "cell_type": "code",
      "metadata": {
        "id": "lkN8z43d6CRy",
        "colab_type": "code",
        "colab": {}
      },
      "source": [
        "#helper function to split the time series (explained in next block of code)\n",
        "def split_sequence(sequence, n_steps):\n",
        "\tX, y = list(), list() #create empty lists to store X and y variables\n",
        "\tfor i in range(len(sequence)):\n",
        "\n",
        "\t\t# find the end of this pattern\n",
        "\t\tend_ix = i + n_steps\n",
        "\n",
        "\t\t# check if we are beyond the sequence\n",
        "\t\t#if we are, simply stop executing this block of code\n",
        "\t\tif end_ix > len(sequence)-1:\n",
        "\t\t\tbreak\n",
        "\n",
        "\t\t# gather input and output parts of the pattern\n",
        "\t\tseq_x, seq_y = sequence[i:end_ix], sequence[end_ix]\n",
        "\t\tX.append(seq_x)\n",
        "\t\ty.append(seq_y)\n",
        "\treturn np.array(X), np.array(y)\n",
        " \t"
      ],
      "execution_count": null,
      "outputs": []
    },
    {
      "cell_type": "code",
      "metadata": {
        "id": "V8WEBZkOtvjf",
        "colab_type": "code",
        "colab": {}
      },
      "source": [
        "seq_length = 5 #seq_length tells how many sequential data points are used for each element of the array\n",
        "#5 means 5 data points will be used at a time\n",
        "#for instance, the first element of the array will be data points 1-5\n",
        "#the second element of the array will be data points 2-6\n",
        "#third element will be data points 3-7, and so on\n",
        "\n",
        "#we only need the close price data for our model\n",
        "data = np.array(df['4. close'])\n",
        "\n",
        "#splitting the data with our helper function\n",
        "X, y = split_sequence(data, seq_length)"
      ],
      "execution_count": null,
      "outputs": []
    },
    {
      "cell_type": "code",
      "metadata": {
        "id": "__JpbTnetv3q",
        "colab_type": "code",
        "colab": {}
      },
      "source": [
        "#reshape from [samples, timesteps] into [samples, timesteps, features] for training the model\n",
        "#the model requires these three values for input\n",
        "n_features = 1 #our only feature, or input variable, is the closing stock price\n",
        "X = X.reshape((X.shape[0], X.shape[1], n_features))"
      ],
      "execution_count": null,
      "outputs": []
    },
    {
      "cell_type": "markdown",
      "metadata": {
        "id": "DazKbAoV6VS1",
        "colab_type": "text"
      },
      "source": [
        "### Constructing the model layers"
      ]
    },
    {
      "cell_type": "code",
      "metadata": {
        "id": "PjxQWzaAtv8X",
        "colab_type": "code",
        "colab": {}
      },
      "source": [
        "import tensorflow as tf #backend for keras\n",
        "from tensorflow import keras #used for creating the CNN model\n",
        "from keras.models import Sequential\n",
        "from keras.layers import Flatten, Dense\n",
        "from keras.layers.convolutional import Conv1D, MaxPooling1D #the data is 1-dimensional so we will use a 1d convolution layer"
      ],
      "execution_count": null,
      "outputs": []
    },
    {
      "cell_type": "code",
      "metadata": {
        "id": "FiBtcismtwB2",
        "colab_type": "code",
        "colab": {}
      },
      "source": [
        "#define/setup model\n",
        "model = Sequential()\n",
        "\n",
        "#add a 1d convolutional layer\n",
        "#64 filters used in the convolution operation (a somewhat arbitrary choice)\n",
        "#kernel_size of 2 means the convolutional layer reads 2 data points at a time, applies the filters, and outputs it to the next layer\n",
        "model.add(Conv1D(filters=64, kernel_size=2, activation='relu', input_shape=(seq_length, n_features)))\n",
        "\n",
        "#add a pooling layer, which reduces the dimensionality of the input size\n",
        "#takes the max value of each window of length 2\n",
        "model.add(MaxPooling1D(pool_size=2))\n",
        "\n",
        "#flattens the data into a 1d vector - first layer of the fully connected layers\n",
        "model.add(Flatten())\n",
        "\n",
        "#dense layer with relu activation\n",
        "#outputs zero for values less than or equal to zero and keeps positive values the same\n",
        "model.add(Dense(50, activation='relu'))\n",
        "\n",
        "#1d dense layer to generate the predicted value\n",
        "#only 1 dimensional because only one value is being predicted at each time point\n",
        "model.add(Dense(1))\n",
        "\n",
        "model.compile(optimizer='adam', loss='mse')"
      ],
      "execution_count": null,
      "outputs": []
    },
    {
      "cell_type": "markdown",
      "metadata": {
        "id": "oSWlb9B-vJHf",
        "colab_type": "text"
      },
      "source": [
        "### Fitting the model"
      ]
    },
    {
      "cell_type": "code",
      "metadata": {
        "id": "wI8CQW6Itv_Z",
        "colab_type": "code",
        "colab": {}
      },
      "source": [
        "#the model is fitted on the training data over 100 epochs to improve and update its parameters\n",
        "#verbose controls how detailed the output is when training the model\n",
        "def fit_model(X, y):\n",
        "    \"\"\"Trains the neural network\"\"\"\n",
        "    model.fit(X, y, epochs=100, verbose=2)"
      ],
      "execution_count": null,
      "outputs": []
    },
    {
      "cell_type": "code",
      "metadata": {
        "id": "a7PMBUsCdVCF",
        "colab_type": "code",
        "colab": {
          "base_uri": "https://localhost:8080/",
          "height": 1000
        },
        "outputId": "a82e663e-c54b-4cec-dd0c-d163f14983bd"
      },
      "source": [
        "fit_model(X,y)"
      ],
      "execution_count": null,
      "outputs": [
        {
          "output_type": "stream",
          "text": [
            "Epoch 1/100\n",
            "3/3 - 0s - loss: 36618.5781\n",
            "Epoch 2/100\n",
            "3/3 - 0s - loss: 21851.4102\n",
            "Epoch 3/100\n",
            "3/3 - 0s - loss: 11904.5029\n",
            "Epoch 4/100\n",
            "3/3 - 0s - loss: 5251.5088\n",
            "Epoch 5/100\n",
            "3/3 - 0s - loss: 1678.3433\n",
            "Epoch 6/100\n",
            "3/3 - 0s - loss: 250.8953\n",
            "Epoch 7/100\n",
            "3/3 - 0s - loss: 117.1663\n",
            "Epoch 8/100\n",
            "3/3 - 0s - loss: 563.9649\n",
            "Epoch 9/100\n",
            "3/3 - 0s - loss: 950.9898\n",
            "Epoch 10/100\n",
            "3/3 - 0s - loss: 997.9736\n",
            "Epoch 11/100\n",
            "3/3 - 0s - loss: 750.2349\n",
            "Epoch 12/100\n",
            "3/3 - 0s - loss: 411.8892\n",
            "Epoch 13/100\n",
            "3/3 - 0s - loss: 157.5542\n",
            "Epoch 14/100\n",
            "3/3 - 0s - loss: 48.2728\n",
            "Epoch 15/100\n",
            "3/3 - 0s - loss: 43.1067\n",
            "Epoch 16/100\n",
            "3/3 - 0s - loss: 87.7317\n",
            "Epoch 17/100\n",
            "3/3 - 0s - loss: 118.1099\n",
            "Epoch 18/100\n",
            "3/3 - 0s - loss: 118.6573\n",
            "Epoch 19/100\n",
            "3/3 - 0s - loss: 93.9535\n",
            "Epoch 20/100\n",
            "3/3 - 0s - loss: 62.3112\n",
            "Epoch 21/100\n",
            "3/3 - 0s - loss: 41.1493\n",
            "Epoch 22/100\n",
            "3/3 - 0s - loss: 34.9172\n",
            "Epoch 23/100\n",
            "3/3 - 0s - loss: 37.1578\n",
            "Epoch 24/100\n",
            "3/3 - 0s - loss: 41.8742\n",
            "Epoch 25/100\n",
            "3/3 - 0s - loss: 43.1304\n",
            "Epoch 26/100\n",
            "3/3 - 0s - loss: 40.2255\n",
            "Epoch 27/100\n",
            "3/3 - 0s - loss: 36.3548\n",
            "Epoch 28/100\n",
            "3/3 - 0s - loss: 34.1690\n",
            "Epoch 29/100\n",
            "3/3 - 0s - loss: 33.4390\n",
            "Epoch 30/100\n",
            "3/3 - 0s - loss: 33.9011\n",
            "Epoch 31/100\n",
            "3/3 - 0s - loss: 34.4370\n",
            "Epoch 32/100\n",
            "3/3 - 0s - loss: 34.4207\n",
            "Epoch 33/100\n",
            "3/3 - 0s - loss: 34.1369\n",
            "Epoch 34/100\n",
            "3/3 - 0s - loss: 33.6269\n",
            "Epoch 35/100\n",
            "3/3 - 0s - loss: 33.2264\n",
            "Epoch 36/100\n",
            "3/3 - 0s - loss: 33.3914\n",
            "Epoch 37/100\n",
            "3/3 - 0s - loss: 33.4003\n",
            "Epoch 38/100\n",
            "3/3 - 0s - loss: 33.4294\n",
            "Epoch 39/100\n",
            "3/3 - 0s - loss: 33.3900\n",
            "Epoch 40/100\n",
            "3/3 - 0s - loss: 33.3286\n",
            "Epoch 41/100\n",
            "3/3 - 0s - loss: 33.2581\n",
            "Epoch 42/100\n",
            "3/3 - 0s - loss: 33.2451\n",
            "Epoch 43/100\n",
            "3/3 - 0s - loss: 33.2912\n",
            "Epoch 44/100\n",
            "3/3 - 0s - loss: 33.3449\n",
            "Epoch 45/100\n",
            "3/3 - 0s - loss: 33.3320\n",
            "Epoch 46/100\n",
            "3/3 - 0s - loss: 33.4205\n",
            "Epoch 47/100\n",
            "3/3 - 0s - loss: 33.3203\n",
            "Epoch 48/100\n",
            "3/3 - 0s - loss: 33.2950\n",
            "Epoch 49/100\n",
            "3/3 - 0s - loss: 33.2645\n",
            "Epoch 50/100\n",
            "3/3 - 0s - loss: 33.2448\n",
            "Epoch 51/100\n",
            "3/3 - 0s - loss: 33.2918\n",
            "Epoch 52/100\n",
            "3/3 - 0s - loss: 33.2442\n",
            "Epoch 53/100\n",
            "3/3 - 0s - loss: 33.3038\n",
            "Epoch 54/100\n",
            "3/3 - 0s - loss: 33.2715\n",
            "Epoch 55/100\n",
            "3/3 - 0s - loss: 33.2494\n",
            "Epoch 56/100\n",
            "3/3 - 0s - loss: 33.2441\n",
            "Epoch 57/100\n",
            "3/3 - 0s - loss: 33.2714\n",
            "Epoch 58/100\n",
            "3/3 - 0s - loss: 33.2529\n",
            "Epoch 59/100\n",
            "3/3 - 0s - loss: 33.2738\n",
            "Epoch 60/100\n",
            "3/3 - 0s - loss: 33.2563\n",
            "Epoch 61/100\n",
            "3/3 - 0s - loss: 33.3331\n",
            "Epoch 62/100\n",
            "3/3 - 0s - loss: 33.2192\n",
            "Epoch 63/100\n",
            "3/3 - 0s - loss: 33.2368\n",
            "Epoch 64/100\n",
            "3/3 - 0s - loss: 33.2726\n",
            "Epoch 65/100\n",
            "3/3 - 0s - loss: 33.2124\n",
            "Epoch 66/100\n",
            "3/3 - 0s - loss: 33.2104\n",
            "Epoch 67/100\n",
            "3/3 - 0s - loss: 33.2022\n",
            "Epoch 68/100\n",
            "3/3 - 0s - loss: 33.2432\n",
            "Epoch 69/100\n",
            "3/3 - 0s - loss: 33.1989\n",
            "Epoch 70/100\n",
            "3/3 - 0s - loss: 33.2351\n",
            "Epoch 71/100\n",
            "3/3 - 0s - loss: 33.2074\n",
            "Epoch 72/100\n",
            "3/3 - 0s - loss: 33.2117\n",
            "Epoch 73/100\n",
            "3/3 - 0s - loss: 33.1561\n",
            "Epoch 74/100\n",
            "3/3 - 0s - loss: 33.1869\n",
            "Epoch 75/100\n",
            "3/3 - 0s - loss: 33.3767\n",
            "Epoch 76/100\n",
            "3/3 - 0s - loss: 33.2086\n",
            "Epoch 77/100\n",
            "3/3 - 0s - loss: 33.2854\n",
            "Epoch 78/100\n",
            "3/3 - 0s - loss: 33.2011\n",
            "Epoch 79/100\n",
            "3/3 - 0s - loss: 33.5276\n",
            "Epoch 80/100\n",
            "3/3 - 0s - loss: 33.2788\n",
            "Epoch 81/100\n",
            "3/3 - 0s - loss: 33.2390\n",
            "Epoch 82/100\n",
            "3/3 - 0s - loss: 33.1319\n",
            "Epoch 83/100\n",
            "3/3 - 0s - loss: 33.1621\n",
            "Epoch 84/100\n",
            "3/3 - 0s - loss: 33.1609\n",
            "Epoch 85/100\n",
            "3/3 - 0s - loss: 33.1370\n",
            "Epoch 86/100\n",
            "3/3 - 0s - loss: 33.3114\n",
            "Epoch 87/100\n",
            "3/3 - 0s - loss: 33.1304\n",
            "Epoch 88/100\n",
            "3/3 - 0s - loss: 33.2337\n",
            "Epoch 89/100\n",
            "3/3 - 0s - loss: 33.1405\n",
            "Epoch 90/100\n",
            "3/3 - 0s - loss: 33.1342\n",
            "Epoch 91/100\n",
            "3/3 - 0s - loss: 33.1461\n",
            "Epoch 92/100\n",
            "3/3 - 0s - loss: 33.2431\n",
            "Epoch 93/100\n",
            "3/3 - 0s - loss: 33.3054\n",
            "Epoch 94/100\n",
            "3/3 - 0s - loss: 33.0959\n",
            "Epoch 95/100\n",
            "3/3 - 0s - loss: 33.1007\n",
            "Epoch 96/100\n",
            "3/3 - 0s - loss: 33.1277\n",
            "Epoch 97/100\n",
            "3/3 - 0s - loss: 33.1575\n",
            "Epoch 98/100\n",
            "3/3 - 0s - loss: 33.1912\n",
            "Epoch 99/100\n",
            "3/3 - 0s - loss: 33.0630\n",
            "Epoch 100/100\n",
            "3/3 - 0s - loss: 33.0555\n"
          ],
          "name": "stdout"
        }
      ]
    },
    {
      "cell_type": "markdown",
      "metadata": {
        "id": "vWIj8DrpuUmd",
        "colab_type": "text"
      },
      "source": [
        "## Creating the predictions"
      ]
    },
    {
      "cell_type": "code",
      "metadata": {
        "id": "d6pty2Xstv6E",
        "colab_type": "code",
        "colab": {}
      },
      "source": [
        "DAYS_TO_PREDICT = 7\n",
        "def make_predictions(X, DAYS_TO_PREDICT):\n",
        "    test_seq = X[-1:] #set the test sequence to start at the most recent stock values\n",
        "    preds = [] #create empty list to store predictions\n",
        "\n",
        "    #create predictions using most recent 5 data points\n",
        "    #the first prediction will assist in making the second prediction, and so on\n",
        "    for _ in range(DAYS_TO_PREDICT):\n",
        "        y_test_pred = model(test_seq) #outputs the prediction from our test sequence\n",
        "        pred = y_test_pred #assign pred to the raw output of the model for rebuilding new_seq and test_seq\n",
        "        preds.append(y_test_pred) #add the prediction to the list we will use for plotting\n",
        "        new_seq = test_seq.flatten() #flatten the output from the model into a 1d array\n",
        "        new_seq = np.append(new_seq, [pred]) #add prediction to the list the model is using to make predictions\n",
        "        new_seq = new_seq[1:] #exclude the first element from the list; use our most recent prediction for the next prediction instead\n",
        "        test_seq = new_seq.reshape(1, seq_length, 1) #reshape for the model\n",
        "    preds=np.array(preds).reshape(DAYS_TO_PREDICT,) #reshape the prediction array for plotting\n",
        "    return preds"
      ],
      "execution_count": null,
      "outputs": []
    },
    {
      "cell_type": "code",
      "metadata": {
        "id": "0A7TQ48ecGQl",
        "colab_type": "code",
        "colab": {}
      },
      "source": [
        "predicted_price=make_predictions(X, 7)"
      ],
      "execution_count": null,
      "outputs": []
    },
    {
      "cell_type": "code",
      "metadata": {
        "id": "pxpO0ZBZtvmm",
        "colab_type": "code",
        "colab": {}
      },
      "source": [
        "def make_pred_index(data, preds):\n",
        "    \"\"\"creating the datetime index for our predictions to be just after our actual data\"\"\"\n",
        "    predicted_index = pd.date_range(start=data.index[-1], #start 1 day beyond existing data\n",
        "                                    periods=DAYS_TO_PREDICT+1, #run time interval through days predicted\n",
        "                                    closed='right') #include the last value of the time frame\n",
        "    return predicted_index\n",
        "\n",
        "def make_pred_series(preds, predicted_index):\n",
        "    \"\"\"create new series of predicted prices with corresponding dates predicted\"\"\"\n",
        "    predicted_price = pd.Series(data=preds,\n",
        "                                index=predicted_index)\n",
        "    return predicted_price"
      ],
      "execution_count": null,
      "outputs": []
    },
    {
      "cell_type": "code",
      "metadata": {
        "id": "FDp7KKRZnH0Y",
        "colab_type": "code",
        "colab": {}
      },
      "source": [
        "predicted_index = make_pred_index(df, predicted_price)\n",
        "predicted_price = make_pred_series(predicted_price, predicted_index)"
      ],
      "execution_count": null,
      "outputs": []
    },
    {
      "cell_type": "markdown",
      "metadata": {
        "id": "e_pybKzZDycD",
        "colab_type": "text"
      },
      "source": [
        "### Visualizing the predictions"
      ]
    },
    {
      "cell_type": "code",
      "metadata": {
        "id": "VE0hMXaRtvfQ",
        "colab_type": "code",
        "colab": {}
      },
      "source": [
        "def plot_predictions(data, predictions):\n",
        "    \"\"\"Takes the dataframe of historical data and Series of predictions as input\"\"\"\n",
        "    plt.figure(figsize=(15,6))\n",
        "    plt.plot(data['4. close'][:-1], #plot data used for training the model\n",
        "         label='Historical Daily Price')\n",
        "    \n",
        "    plt.plot(predictions, '.-', #plot predictions\n",
        "             label='Predicted Daily Price')\n",
        "    plt.title(\"MSFT daily closing price (2020)\\nPrediction for \"+str(predictions.index[0].date())+\" to \"+str(predictions.index[-1].date()))\n",
        "    plt.legend()\n",
        "    plt.show()"
      ],
      "execution_count": null,
      "outputs": []
    },
    {
      "cell_type": "code",
      "metadata": {
        "id": "l6T2ny92cW3r",
        "colab_type": "code",
        "colab": {
          "base_uri": "https://localhost:8080/",
          "height": 407
        },
        "outputId": "5e603bc7-64c3-4b71-93a9-dca98e32a7a7"
      },
      "source": [
        "plot_predictions(df, predicted_price)"
      ],
      "execution_count": null,
      "outputs": [
        {
          "output_type": "display_data",
          "data": {
            "image/png": "[encoded data removed]",
            "text/plain": [
              "<Figure size 1080x432 with 1 Axes>"
            ]
          },
          "metadata": {
            "tags": [],
            "needs_background": "light"
          }
        }
      ]
    },
    {
      "cell_type": "code",
      "metadata": {
        "id": "oyGi0RFOu1lR",
        "colab_type": "code",
        "colab": {}
      },
      "source": [
        "def plot_predictions_recent(data, predictions):\n",
        "    plt.figure(figsize=(15,6))\n",
        "    #plot data used for training the model\n",
        "    plt.plot(data[data.index>=\"2020-08-01\"]['4. close'][:-1],\n",
        "            label='Historical Daily Price')\n",
        "\n",
        "    #add the predcited prices to the plot\n",
        "    plt.plot(predictions, '.-',\n",
        "            label='Predicted Daily Price')\n",
        "    plt.title(\"MSFT daily closing price (2020)\\nPrediction for \"+str(predictions.index[0].date())+\" to \"+str(predictions.index[-1].date()))\n",
        "    plt.legend()\n",
        "    plt.show()"
      ],
      "execution_count": null,
      "outputs": []
    },
    {
      "cell_type": "code",
      "metadata": {
        "id": "WrFAHxEyn24F",
        "colab_type": "code",
        "colab": {
          "base_uri": "https://localhost:8080/",
          "height": 398
        },
        "outputId": "2b660cd2-db84-4756-f6d9-1093bfe487ab"
      },
      "source": [
        "plot_predictions_recent(df, predicted_price)"
      ],
      "execution_count": null,
      "outputs": [
        {
          "output_type": "display_data",
          "data": {
            "image/png": "[encoded data removed]",
            "text/plain": [
              "<Figure size 1080x432 with 1 Axes>"
            ]
          },
          "metadata": {
            "tags": [],
            "needs_background": "light"
          }
        }
      ]
    },
    {
      "cell_type": "markdown",
      "metadata": {
        "id": "ntn8tHP5GHfn",
        "colab_type": "text"
      },
      "source": [
        "Interpretation:\n",
        "\n",
        "In blue we see the historical price stock price and in orange we see the prediction for 7 days into the future.  As one can see since the shut down becuase of COVID, Microsoft stock has risen steadily over time.  This is expected as many big tech stocks have seen an increase in stock price because in this virtual world because there is an even greater reliance on their products. \n",
        "\n",
        "Microsoft dropped from a little above 230 to just above 200 during the first week of September.  Our model predicts a slight increase within the next week to at about 207. "
      ]
    },
    {
      "cell_type": "markdown",
      "metadata": {
        "id": "fKA08ivyHKX2",
        "colab_type": "text"
      },
      "source": [
        "### Backtesting"
      ]
    },
    {
      "cell_type": "markdown",
      "metadata": {
        "id": "QiEEnwumSxQl",
        "colab_type": "text"
      },
      "source": [
        "We had to do break up our data for backtesting in an untraditional way.  This is because the way the stocks behave, they are to eradict to predict from just an 80 20 test split. What we ended up doing is removing the last week's worth of data, running that dataframe through the model then comparing the predicted to the actual."
      ]
    },
    {
      "cell_type": "code",
      "metadata": {
        "id": "rBFQsfZmHM3B",
        "colab_type": "code",
        "colab": {}
      },
      "source": [
        "df_backtest = df[:-5] # remove the last 5 data points to keep the most recent full week"
      ],
      "execution_count": null,
      "outputs": []
    },
    {
      "cell_type": "code",
      "metadata": {
        "id": "3pQy6_ekHMrD",
        "colab_type": "code",
        "colab": {
          "base_uri": "https://localhost:8080/",
          "height": 450
        },
        "outputId": "a19a55c2-619e-4f89-9668-0d3319e36742"
      },
      "source": [
        "df_backtest"
      ],
      "execution_count": null,
      "outputs": [
        {
          "output_type": "execute_result",
          "data": {
            "text/html": [
              "<div>\n",
              "<style scoped>\n",
              "    .dataframe tbody tr th:only-of-type {\n",
              "        vertical-align: middle;\n",
              "    }\n",
              "\n",
              "    .dataframe tbody tr th {\n",
              "        vertical-align: top;\n",
              "    }\n",
              "\n",
              "    .dataframe thead th {\n",
              "        text-align: right;\n",
              "    }\n",
              "</style>\n",
              "<table border=\"1\" class=\"dataframe\">\n",
              "  <thead>\n",
              "    <tr style=\"text-align: right;\">\n",
              "      <th></th>\n",
              "      <th>1. open</th>\n",
              "      <th>2. high</th>\n",
              "      <th>3. low</th>\n",
              "      <th>4. close</th>\n",
              "      <th>5. volume</th>\n",
              "    </tr>\n",
              "    <tr>\n",
              "      <th>Index</th>\n",
              "      <th></th>\n",
              "      <th></th>\n",
              "      <th></th>\n",
              "      <th></th>\n",
              "      <th></th>\n",
              "    </tr>\n",
              "  </thead>\n",
              "  <tbody>\n",
              "    <tr>\n",
              "      <th>2020-05-01</th>\n",
              "      <td>175.80</td>\n",
              "      <td>178.6400</td>\n",
              "      <td>174.01</td>\n",
              "      <td>174.57</td>\n",
              "      <td>39370474</td>\n",
              "    </tr>\n",
              "    <tr>\n",
              "      <th>2020-05-04</th>\n",
              "      <td>174.49</td>\n",
              "      <td>179.0000</td>\n",
              "      <td>173.80</td>\n",
              "      <td>178.84</td>\n",
              "      <td>30372862</td>\n",
              "    </tr>\n",
              "    <tr>\n",
              "      <th>2020-05-05</th>\n",
              "      <td>180.62</td>\n",
              "      <td>183.6500</td>\n",
              "      <td>179.90</td>\n",
              "      <td>180.76</td>\n",
              "      <td>36839168</td>\n",
              "    </tr>\n",
              "    <tr>\n",
              "      <th>2020-05-06</th>\n",
              "      <td>182.08</td>\n",
              "      <td>184.2000</td>\n",
              "      <td>181.63</td>\n",
              "      <td>182.54</td>\n",
              "      <td>32139299</td>\n",
              "    </tr>\n",
              "    <tr>\n",
              "      <th>2020-05-07</th>\n",
              "      <td>184.17</td>\n",
              "      <td>184.5500</td>\n",
              "      <td>182.58</td>\n",
              "      <td>183.60</td>\n",
              "      <td>28315992</td>\n",
              "    </tr>\n",
              "    <tr>\n",
              "      <th>...</th>\n",
              "      <td>...</td>\n",
              "      <td>...</td>\n",
              "      <td>...</td>\n",
              "      <td>...</td>\n",
              "      <td>...</td>\n",
              "    </tr>\n",
              "    <tr>\n",
              "      <th>2020-09-09</th>\n",
              "      <td>207.60</td>\n",
              "      <td>214.8399</td>\n",
              "      <td>206.70</td>\n",
              "      <td>211.29</td>\n",
              "      <td>45678986</td>\n",
              "    </tr>\n",
              "    <tr>\n",
              "      <th>2020-09-10</th>\n",
              "      <td>213.40</td>\n",
              "      <td>214.7400</td>\n",
              "      <td>204.11</td>\n",
              "      <td>205.37</td>\n",
              "      <td>35461514</td>\n",
              "    </tr>\n",
              "    <tr>\n",
              "      <th>2020-09-11</th>\n",
              "      <td>207.20</td>\n",
              "      <td>208.6300</td>\n",
              "      <td>201.24</td>\n",
              "      <td>204.03</td>\n",
              "      <td>33620073</td>\n",
              "    </tr>\n",
              "    <tr>\n",
              "      <th>2020-09-14</th>\n",
              "      <td>204.24</td>\n",
              "      <td>209.2000</td>\n",
              "      <td>204.03</td>\n",
              "      <td>205.41</td>\n",
              "      <td>30375768</td>\n",
              "    </tr>\n",
              "    <tr>\n",
              "      <th>2020-09-15</th>\n",
              "      <td>208.42</td>\n",
              "      <td>209.7800</td>\n",
              "      <td>206.93</td>\n",
              "      <td>208.78</td>\n",
              "      <td>21823942</td>\n",
              "    </tr>\n",
              "  </tbody>\n",
              "</table>\n",
              "<p>95 rows × 5 columns</p>\n",
              "</div>"
            ],
            "text/plain": [
              "            1. open   2. high  3. low  4. close  5. volume\n",
              "Index                                                     \n",
              "2020-05-01   175.80  178.6400  174.01    174.57   39370474\n",
              "2020-05-04   174.49  179.0000  173.80    178.84   30372862\n",
              "2020-05-05   180.62  183.6500  179.90    180.76   36839168\n",
              "2020-05-06   182.08  184.2000  181.63    182.54   32139299\n",
              "2020-05-07   184.17  184.5500  182.58    183.60   28315992\n",
              "...             ...       ...     ...       ...        ...\n",
              "2020-09-09   207.60  214.8399  206.70    211.29   45678986\n",
              "2020-09-10   213.40  214.7400  204.11    205.37   35461514\n",
              "2020-09-11   207.20  208.6300  201.24    204.03   33620073\n",
              "2020-09-14   204.24  209.2000  204.03    205.41   30375768\n",
              "2020-09-15   208.42  209.7800  206.93    208.78   21823942\n",
              "\n",
              "[95 rows x 5 columns]"
            ]
          },
          "metadata": {
            "tags": []
          },
          "execution_count": 30
        }
      ]
    },
    {
      "cell_type": "code",
      "metadata": {
        "id": "PizsyjfiHMvZ",
        "colab_type": "code",
        "colab": {}
      },
      "source": [
        "#we only need the close price data for our model\n",
        "data_bt = np.array(df_backtest['4. close'])\n",
        "\n",
        "#splitting the data with our helper function\n",
        "X_bt, y_bt = split_sequence(data_bt, seq_length)"
      ],
      "execution_count": null,
      "outputs": []
    },
    {
      "cell_type": "code",
      "metadata": {
        "id": "ouddYguMHMfu",
        "colab_type": "code",
        "colab": {}
      },
      "source": [
        "#reshape from [samples, timesteps] into [samples, timesteps, features] for training the model\n",
        "#the model requires these three values for input\n",
        "n_features = 1 #our only feature, or input variable, is the closing stock price\n",
        "X_bt = X_bt.reshape((X_bt.shape[0], X_bt.shape[1], n_features))"
      ],
      "execution_count": null,
      "outputs": []
    },
    {
      "cell_type": "code",
      "metadata": {
        "id": "xfKCOjlALNZP",
        "colab_type": "code",
        "colab": {}
      },
      "source": [
        "#define/setup model\n",
        "model_bt = Sequential()\n",
        "\n",
        "#add a 1d convolutional layer\n",
        "#64 filters used in the convolution operation (a somewhat arbitrary choice)\n",
        "#kernel_size of 2 means the convolutional layer reads 2 data points at a time, applies the filters, and outputs it to the next layer\n",
        "model_bt.add(Conv1D(filters=64, kernel_size=2, activation='relu', input_shape=(seq_length, n_features)))\n",
        "\n",
        "#add a pooling layer, which reduces the dimensionality of the input size\n",
        "#takes the max value of each window of length 2\n",
        "model_bt.add(MaxPooling1D(pool_size=2))\n",
        "\n",
        "#flattens the data into a 1d vector - first layer of the fully connected layers\n",
        "model_bt.add(Flatten())\n",
        "\n",
        "#dense layer with relu activation\n",
        "#outputs zero for values less than or equal to zero and keeps positive values the same\n",
        "model_bt.add(Dense(50, activation='relu'))\n",
        "\n",
        "#1d dense layer to generate the predicted value\n",
        "#only 1 dimensional because only one value is being predicted at each time point\n",
        "model_bt.add(Dense(1))\n",
        "\n",
        "model_bt.compile(optimizer='adam', loss='mse')"
      ],
      "execution_count": null,
      "outputs": []
    },
    {
      "cell_type": "code",
      "metadata": {
        "id": "RWxM7CV4HMdG",
        "colab_type": "code",
        "colab": {
          "base_uri": "https://localhost:8080/",
          "height": 1000
        },
        "outputId": "51024589-e284-4de5-927a-8b416fcf8ebd"
      },
      "source": [
        "model_bt.fit(X_bt, y_bt, epochs=100)"
      ],
      "execution_count": null,
      "outputs": [
        {
          "output_type": "stream",
          "text": [
            "Epoch 1/100\n",
            "3/3 [==============================] - 0s 3ms/step - loss: 37572.4336\n",
            "Epoch 2/100\n",
            "3/3 [==============================] - 0s 2ms/step - loss: 26970.4336\n",
            "Epoch 3/100\n",
            "3/3 [==============================] - 0s 2ms/step - loss: 18689.4414\n",
            "Epoch 4/100\n",
            "3/3 [==============================] - 0s 2ms/step - loss: 11974.2051\n",
            "Epoch 5/100\n",
            "3/3 [==============================] - 0s 2ms/step - loss: 6945.2202\n",
            "Epoch 6/100\n",
            "3/3 [==============================] - 0s 2ms/step - loss: 3479.9714\n",
            "Epoch 7/100\n",
            "3/3 [==============================] - 0s 3ms/step - loss: 1296.2347\n",
            "Epoch 8/100\n",
            "3/3 [==============================] - 0s 2ms/step - loss: 263.4261\n",
            "Epoch 9/100\n",
            "3/3 [==============================] - 0s 3ms/step - loss: 76.9158\n",
            "Epoch 10/100\n",
            "3/3 [==============================] - 0s 2ms/step - loss: 354.1005\n",
            "Epoch 11/100\n",
            "3/3 [==============================] - 0s 2ms/step - loss: 611.1554\n",
            "Epoch 12/100\n",
            "3/3 [==============================] - 0s 2ms/step - loss: 655.6068\n",
            "Epoch 13/100\n",
            "3/3 [==============================] - 0s 2ms/step - loss: 557.9864\n",
            "Epoch 14/100\n",
            "3/3 [==============================] - 0s 2ms/step - loss: 365.6723\n",
            "Epoch 15/100\n",
            "3/3 [==============================] - 0s 2ms/step - loss: 183.1943\n",
            "Epoch 16/100\n",
            "3/3 [==============================] - 0s 2ms/step - loss: 68.8492\n",
            "Epoch 17/100\n",
            "3/3 [==============================] - 0s 2ms/step - loss: 36.8783\n",
            "Epoch 18/100\n",
            "3/3 [==============================] - 0s 2ms/step - loss: 50.9211\n",
            "Epoch 19/100\n",
            "3/3 [==============================] - 0s 2ms/step - loss: 73.9374\n",
            "Epoch 20/100\n",
            "3/3 [==============================] - 0s 2ms/step - loss: 86.5353\n",
            "Epoch 21/100\n",
            "3/3 [==============================] - 0s 2ms/step - loss: 81.7246\n",
            "Epoch 22/100\n",
            "3/3 [==============================] - 0s 2ms/step - loss: 64.9491\n",
            "Epoch 23/100\n",
            "3/3 [==============================] - 0s 2ms/step - loss: 49.2319\n",
            "Epoch 24/100\n",
            "3/3 [==============================] - 0s 2ms/step - loss: 37.3065\n",
            "Epoch 25/100\n",
            "3/3 [==============================] - 0s 3ms/step - loss: 36.1318\n",
            "Epoch 26/100\n",
            "3/3 [==============================] - 0s 2ms/step - loss: 37.6428\n",
            "Epoch 27/100\n",
            "3/3 [==============================] - 0s 3ms/step - loss: 40.0852\n",
            "Epoch 28/100\n",
            "3/3 [==============================] - 0s 2ms/step - loss: 40.6625\n",
            "Epoch 29/100\n",
            "3/3 [==============================] - 0s 2ms/step - loss: 39.2681\n",
            "Epoch 30/100\n",
            "3/3 [==============================] - 0s 2ms/step - loss: 36.8259\n",
            "Epoch 31/100\n",
            "3/3 [==============================] - 0s 3ms/step - loss: 36.2582\n",
            "Epoch 32/100\n",
            "3/3 [==============================] - 0s 3ms/step - loss: 35.5107\n",
            "Epoch 33/100\n",
            "3/3 [==============================] - 0s 2ms/step - loss: 35.5323\n",
            "Epoch 34/100\n",
            "3/3 [==============================] - 0s 2ms/step - loss: 35.9515\n",
            "Epoch 35/100\n",
            "3/3 [==============================] - 0s 2ms/step - loss: 36.0463\n",
            "Epoch 36/100\n",
            "3/3 [==============================] - 0s 2ms/step - loss: 35.9525\n",
            "Epoch 37/100\n",
            "3/3 [==============================] - 0s 2ms/step - loss: 35.4914\n",
            "Epoch 38/100\n",
            "3/3 [==============================] - 0s 2ms/step - loss: 35.4685\n",
            "Epoch 39/100\n",
            "3/3 [==============================] - 0s 2ms/step - loss: 35.3833\n",
            "Epoch 40/100\n",
            "3/3 [==============================] - 0s 2ms/step - loss: 35.4322\n",
            "Epoch 41/100\n",
            "3/3 [==============================] - 0s 2ms/step - loss: 35.5505\n",
            "Epoch 42/100\n",
            "3/3 [==============================] - 0s 2ms/step - loss: 35.4570\n",
            "Epoch 43/100\n",
            "3/3 [==============================] - 0s 2ms/step - loss: 35.3966\n",
            "Epoch 44/100\n",
            "3/3 [==============================] - 0s 2ms/step - loss: 35.4094\n",
            "Epoch 45/100\n",
            "3/3 [==============================] - 0s 2ms/step - loss: 35.4099\n",
            "Epoch 46/100\n",
            "3/3 [==============================] - 0s 2ms/step - loss: 35.3718\n",
            "Epoch 47/100\n",
            "3/3 [==============================] - 0s 2ms/step - loss: 35.3406\n",
            "Epoch 48/100\n",
            "3/3 [==============================] - 0s 2ms/step - loss: 35.3416\n",
            "Epoch 49/100\n",
            "3/3 [==============================] - 0s 3ms/step - loss: 35.3843\n",
            "Epoch 50/100\n",
            "3/3 [==============================] - 0s 3ms/step - loss: 35.3480\n",
            "Epoch 51/100\n",
            "3/3 [==============================] - 0s 2ms/step - loss: 35.3883\n",
            "Epoch 52/100\n",
            "3/3 [==============================] - 0s 2ms/step - loss: 35.3393\n",
            "Epoch 53/100\n",
            "3/3 [==============================] - 0s 4ms/step - loss: 35.4167\n",
            "Epoch 54/100\n",
            "3/3 [==============================] - 0s 3ms/step - loss: 35.3374\n",
            "Epoch 55/100\n",
            "3/3 [==============================] - 0s 2ms/step - loss: 35.3238\n",
            "Epoch 56/100\n",
            "3/3 [==============================] - 0s 2ms/step - loss: 35.3445\n",
            "Epoch 57/100\n",
            "3/3 [==============================] - 0s 3ms/step - loss: 35.3134\n",
            "Epoch 58/100\n",
            "3/3 [==============================] - 0s 3ms/step - loss: 35.3353\n",
            "Epoch 59/100\n",
            "3/3 [==============================] - 0s 3ms/step - loss: 35.4355\n",
            "Epoch 60/100\n",
            "3/3 [==============================] - 0s 3ms/step - loss: 35.3508\n",
            "Epoch 61/100\n",
            "3/3 [==============================] - 0s 2ms/step - loss: 35.2950\n",
            "Epoch 62/100\n",
            "3/3 [==============================] - 0s 3ms/step - loss: 35.3011\n",
            "Epoch 63/100\n",
            "3/3 [==============================] - 0s 2ms/step - loss: 35.3080\n",
            "Epoch 64/100\n",
            "3/3 [==============================] - 0s 2ms/step - loss: 35.4341\n",
            "Epoch 65/100\n",
            "3/3 [==============================] - 0s 3ms/step - loss: 35.3557\n",
            "Epoch 66/100\n",
            "3/3 [==============================] - 0s 2ms/step - loss: 35.3708\n",
            "Epoch 67/100\n",
            "3/3 [==============================] - 0s 2ms/step - loss: 35.3655\n",
            "Epoch 68/100\n",
            "3/3 [==============================] - 0s 2ms/step - loss: 35.2945\n",
            "Epoch 69/100\n",
            "3/3 [==============================] - 0s 2ms/step - loss: 35.3204\n",
            "Epoch 70/100\n",
            "3/3 [==============================] - 0s 3ms/step - loss: 35.4940\n",
            "Epoch 71/100\n",
            "3/3 [==============================] - 0s 2ms/step - loss: 35.4033\n",
            "Epoch 72/100\n",
            "3/3 [==============================] - 0s 2ms/step - loss: 35.2863\n",
            "Epoch 73/100\n",
            "3/3 [==============================] - 0s 2ms/step - loss: 35.2722\n",
            "Epoch 74/100\n",
            "3/3 [==============================] - 0s 2ms/step - loss: 35.3931\n",
            "Epoch 75/100\n",
            "3/3 [==============================] - 0s 2ms/step - loss: 35.3986\n",
            "Epoch 76/100\n",
            "3/3 [==============================] - 0s 2ms/step - loss: 35.3478\n",
            "Epoch 77/100\n",
            "3/3 [==============================] - 0s 2ms/step - loss: 35.2900\n",
            "Epoch 78/100\n",
            "3/3 [==============================] - 0s 2ms/step - loss: 35.4583\n",
            "Epoch 79/100\n",
            "3/3 [==============================] - 0s 3ms/step - loss: 35.3063\n",
            "Epoch 80/100\n",
            "3/3 [==============================] - 0s 2ms/step - loss: 35.3276\n",
            "Epoch 81/100\n",
            "3/3 [==============================] - 0s 2ms/step - loss: 35.2786\n",
            "Epoch 82/100\n",
            "3/3 [==============================] - 0s 2ms/step - loss: 35.3348\n",
            "Epoch 83/100\n",
            "3/3 [==============================] - 0s 2ms/step - loss: 35.3488\n",
            "Epoch 84/100\n",
            "3/3 [==============================] - 0s 3ms/step - loss: 35.2296\n",
            "Epoch 85/100\n",
            "3/3 [==============================] - 0s 2ms/step - loss: 35.2391\n",
            "Epoch 86/100\n",
            "3/3 [==============================] - 0s 3ms/step - loss: 35.2233\n",
            "Epoch 87/100\n",
            "3/3 [==============================] - 0s 2ms/step - loss: 35.2631\n",
            "Epoch 88/100\n",
            "3/3 [==============================] - 0s 2ms/step - loss: 35.3203\n",
            "Epoch 89/100\n",
            "3/3 [==============================] - 0s 2ms/step - loss: 35.2013\n",
            "Epoch 90/100\n",
            "3/3 [==============================] - 0s 2ms/step - loss: 35.2373\n",
            "Epoch 91/100\n",
            "3/3 [==============================] - 0s 2ms/step - loss: 35.2630\n",
            "Epoch 92/100\n",
            "3/3 [==============================] - 0s 2ms/step - loss: 35.2121\n",
            "Epoch 93/100\n",
            "3/3 [==============================] - 0s 2ms/step - loss: 35.2221\n",
            "Epoch 94/100\n",
            "3/3 [==============================] - 0s 2ms/step - loss: 35.2057\n",
            "Epoch 95/100\n",
            "3/3 [==============================] - 0s 2ms/step - loss: 35.2472\n",
            "Epoch 96/100\n",
            "3/3 [==============================] - 0s 2ms/step - loss: 35.1860\n",
            "Epoch 97/100\n",
            "3/3 [==============================] - 0s 2ms/step - loss: 35.2018\n",
            "Epoch 98/100\n",
            "3/3 [==============================] - 0s 4ms/step - loss: 35.1904\n",
            "Epoch 99/100\n",
            "3/3 [==============================] - 0s 2ms/step - loss: 35.1918\n",
            "Epoch 100/100\n",
            "3/3 [==============================] - 0s 3ms/step - loss: 35.2014\n"
          ],
          "name": "stdout"
        },
        {
          "output_type": "execute_result",
          "data": {
            "text/plain": [
              "<tensorflow.python.keras.callbacks.History at 0x7f5570de2b38>"
            ]
          },
          "metadata": {
            "tags": []
          },
          "execution_count": 34
        }
      ]
    },
    {
      "cell_type": "code",
      "metadata": {
        "id": "fjkWeMGBKHz-",
        "colab_type": "code",
        "colab": {}
      },
      "source": [
        "DAYS_TO_PREDICT = 7\n",
        "def make_predictions_bt(X, DAYS_TO_PREDICT):\n",
        "    test_seq = X[-1:] #set the test sequence to start at the most recent stock values\n",
        "    preds = [] #create empty list to store predictions\n",
        "    #create predictions using most recent 5 data points\n",
        "    #the first prediction will assist in making the second prediction, and so on\n",
        "    for _ in range(DAYS_TO_PREDICT):\n",
        "        y_test_pred = model_bt(test_seq) #outputs the prediction from our test sequence\n",
        "        pred = y_test_pred #assign pred to the raw output of the model for rebuilding new_seq and test_seq\n",
        "        preds.append(y_test_pred) #add the prediction to the list we will use for plotting\n",
        "        new_seq = test_seq.flatten() #flatten the output from the model into a 1d array\n",
        "        new_seq = np.append(new_seq, [pred]) #add prediction to the list the model is using to make predictions\n",
        "        new_seq = new_seq[1:] #exclude the first element from the list; use our most recent prediction for the next prediction instead\n",
        "        test_seq = new_seq.reshape(1, seq_length, 1) #reshape for the model\n",
        "    preds=np.array(preds).reshape(DAYS_TO_PREDICT,) #reshape the prediction array for plotting\n",
        "    return preds"
      ],
      "execution_count": null,
      "outputs": []
    },
    {
      "cell_type": "code",
      "metadata": {
        "id": "wFcdoR23PApR",
        "colab_type": "code",
        "colab": {}
      },
      "source": [
        "predicted_price_bt = make_predictions_bt(X_bt, 7)"
      ],
      "execution_count": null,
      "outputs": []
    },
    {
      "cell_type": "code",
      "metadata": {
        "id": "Fwd9fFQSK0S3",
        "colab_type": "code",
        "colab": {}
      },
      "source": [
        "predicted_index_bt = make_pred_index(df_backtest, predicted_price_bt)\n",
        "predicted_price_bt = make_pred_series(predicted_price_bt, predicted_index_bt)"
      ],
      "execution_count": null,
      "outputs": []
    },
    {
      "cell_type": "code",
      "metadata": {
        "id": "q1b0ZVSjOvR6",
        "colab_type": "code",
        "colab": {
          "base_uri": "https://localhost:8080/",
          "height": 407
        },
        "outputId": "406c0cbc-5b59-4ae7-872b-f7faab1ede09"
      },
      "source": [
        "plot_predictions(df_backtest, predicted_price_bt)"
      ],
      "execution_count": null,
      "outputs": [
        {
          "output_type": "display_data",
          "data": {
            "image/png": "[encoded data removed]",
            "text/plain": [
              "<Figure size 1080x432 with 1 Axes>"
            ]
          },
          "metadata": {
            "tags": [],
            "needs_background": "light"
          }
        }
      ]
    },
    {
      "cell_type": "code",
      "metadata": {
        "id": "P6_otoCmK0MG",
        "colab_type": "code",
        "colab": {
          "base_uri": "https://localhost:8080/",
          "height": 407
        },
        "outputId": "da08500d-511e-46a9-9707-d9e7aeec38e4"
      },
      "source": [
        "plot_predictions_recent(df_backtest, predicted_price_bt)"
      ],
      "execution_count": null,
      "outputs": [
        {
          "output_type": "display_data",
          "data": {
            "image/png": "[encoded data removed]",
            "text/plain": [
              "<Figure size 1080x432 with 1 Axes>"
            ]
          },
          "metadata": {
            "tags": [],
            "needs_background": "light"
          }
        }
      ]
    },
    {
      "cell_type": "markdown",
      "metadata": {
        "id": "t2e_V8-LRejt",
        "colab_type": "text"
      },
      "source": [
        "#### Comparing our predicion to the true values"
      ]
    },
    {
      "cell_type": "code",
      "metadata": {
        "id": "9Wq6KTsWMz3e",
        "colab_type": "code",
        "colab": {
          "base_uri": "https://localhost:8080/",
          "height": 407
        },
        "outputId": "ef152400-4c6a-437f-bf8e-33a55b27c36b"
      },
      "source": [
        "plt.figure(figsize=(15,6))\n",
        "plt.plot(df[(df.index<=\"2020-09-11\") & (df.index>=\"2020-07-01\")]['4. close'], label='True Historical Price')\n",
        "plt.plot(df[df.index>=\"2020-09-14\"]['4. close'], label='True Future Price', color='green')\n",
        "plt.plot(predicted_price_bt, label='Predicted Price')\n",
        "plt.title(\"MSFT daily closing price (2020)\\nPrediction for \"+str(predicted_price_bt.index[0].date())+\" to \"+str(predicted_price_bt.index[-1].date()))\n",
        "plt.legend()\n",
        "plt.show()"
      ],
      "execution_count": null,
      "outputs": [
        {
          "output_type": "display_data",
          "data": {
            "image/png": "[encoded data removed]",
            "text/plain": [
              "<Figure size 1080x432 with 1 Axes>"
            ]
          },
          "metadata": {
            "tags": [],
            "needs_background": "light"
          }
        }
      ]
    },
    {
      "cell_type": "code",
      "metadata": {
        "id": "Ys5GmjA2Mzj1",
        "colab_type": "code",
        "colab": {}
      },
      "source": [
        ""
      ],
      "execution_count": null,
      "outputs": []
    },
    {
      "cell_type": "code",
      "metadata": {
        "id": "5BPL30lPKHt5",
        "colab_type": "code",
        "colab": {}
      },
      "source": [
        ""
      ],
      "execution_count": null,
      "outputs": []
    },
    {
      "cell_type": "markdown",
      "metadata": {
        "id": "WY3JOFqpMPjt",
        "colab_type": "text"
      },
      "source": [
        "### Deploy"
      ]
    },
    {
      "cell_type": "code",
      "metadata": {
        "id": "RnhvDbNZM5gF",
        "colab_type": "code",
        "colab": {
          "base_uri": "https://localhost:8080/",
          "height": 666
        },
        "outputId": "232ee36b-a73f-4ea2-efa5-2a77c378e754"
      },
      "source": [
        "# Importing the essential libraries\n",
        "!pip install flask_ngrok\n",
        "!pip install pyngrok\n",
        "!wget https://bin.equinox.io/c/4VmDzA7iaHb/ngrok-stable-linux-amd64.zip\n",
        "import os\n",
        "import numpy as np #fast computations with arrays\n",
        "import pandas as pd #save data into optimized dataframes\n",
        "import matplotlib.pyplot as plt #create custom visualizations/plots of the data\n",
        "import seaborn as sns; sns.set() #sets the style of plots"
      ],
      "execution_count": null,
      "outputs": [
        {
          "output_type": "stream",
          "text": [
            "Collecting flask_ngrok\n",
            "  Downloading https://files.pythonhosted.org/packages/af/6c/f54cb686ad1129e27d125d182f90f52b32f284e6c8df58c1bae54fa1adbc/flask_ngrok-0.0.25-py3-none-any.whl\n",
            "Requirement already satisfied: requests in /usr/local/lib/python3.6/dist-packages (from flask_ngrok) (2.23.0)\n",
            "Requirement already satisfied: Flask>=0.8 in /usr/local/lib/python3.6/dist-packages (from flask_ngrok) (1.1.2)\n",
            "Requirement already satisfied: certifi>=2017.4.17 in /usr/local/lib/python3.6/dist-packages (from requests->flask_ngrok) (2020.6.20)\n",
            "Requirement already satisfied: urllib3!=1.25.0,!=1.25.1,<1.26,>=1.21.1 in /usr/local/lib/python3.6/dist-packages (from requests->flask_ngrok) (1.24.3)\n",
            "Requirement already satisfied: chardet<4,>=3.0.2 in /usr/local/lib/python3.6/dist-packages (from requests->flask_ngrok) (3.0.4)\n",
            "Requirement already satisfied: idna<3,>=2.5 in /usr/local/lib/python3.6/dist-packages (from requests->flask_ngrok) (2.10)\n",
            "Requirement already satisfied: Jinja2>=2.10.1 in /usr/local/lib/python3.6/dist-packages (from Flask>=0.8->flask_ngrok) (2.11.2)\n",
            "Requirement already satisfied: click>=5.1 in /usr/local/lib/python3.6/dist-packages (from Flask>=0.8->flask_ngrok) (7.1.2)\n",
            "Requirement already satisfied: itsdangerous>=0.24 in /usr/local/lib/python3.6/dist-packages (from Flask>=0.8->flask_ngrok) (1.1.0)\n",
            "Requirement already satisfied: Werkzeug>=0.15 in /usr/local/lib/python3.6/dist-packages (from Flask>=0.8->flask_ngrok) (1.0.1)\n",
            "Requirement already satisfied: MarkupSafe>=0.23 in /usr/local/lib/python3.6/dist-packages (from Jinja2>=2.10.1->Flask>=0.8->flask_ngrok) (1.1.1)\n",
            "Installing collected packages: flask-ngrok\n",
            "Successfully installed flask-ngrok-0.0.25\n",
            "Collecting pyngrok\n",
            "  Downloading https://files.pythonhosted.org/packages/d1/4e/c050f5ed75f60cca4e9cc0a7056a9b424707a09f6293756e7dd19beb10db/pyngrok-4.1.12.tar.gz\n",
            "Requirement already satisfied: future in /usr/local/lib/python3.6/dist-packages (from pyngrok) (0.16.0)\n",
            "Requirement already satisfied: PyYAML in /usr/local/lib/python3.6/dist-packages (from pyngrok) (3.13)\n",
            "Building wheels for collected packages: pyngrok\n",
            "  Building wheel for pyngrok (setup.py) ... \u001b[?25l\u001b[?25hdone\n",
            "  Created wheel for pyngrok: filename=pyngrok-4.1.12-cp36-none-any.whl size=16810 sha256=bd2435d8d960e009fc9ea7f6c7a8468c61a625eef6d5c668ac4365fc97153779\n",
            "  Stored in directory: /root/.cache/pip/wheels/69/c3/d6/6968dd4d831794d41c311be1d7af6f4ac151c5d3bd0e6efab8\n",
            "Successfully built pyngrok\n",
            "Installing collected packages: pyngrok\n",
            "Successfully installed pyngrok-4.1.12\n",
            "--2020-09-23 14:40:57--  https://bin.equinox.io/c/4VmDzA7iaHb/ngrok-stable-linux-amd64.zip\n",
            "Resolving bin.equinox.io (bin.equinox.io)... 3.212.40.153, 34.230.212.40, 52.5.250.138, ...\n",
            "Connecting to bin.equinox.io (bin.equinox.io)|3.212.40.153|:443... connected.\n",
            "HTTP request sent, awaiting response... 200 OK\n",
            "Length: 13773305 (13M) [application/octet-stream]\n",
            "Saving to: ‘ngrok-stable-linux-amd64.zip’\n",
            "\n",
            "ngrok-stable-linux- 100%[===================>]  13.13M  6.42MB/s    in 2.0s    \n",
            "\n",
            "2020-09-23 14:41:00 (6.42 MB/s) - ‘ngrok-stable-linux-amd64.zip’ saved [13773305/13773305]\n",
            "\n"
          ],
          "name": "stdout"
        }
      ]
    },
    {
      "cell_type": "code",
      "metadata": {
        "id": "j0hZKoR3NrmC",
        "colab_type": "code",
        "colab": {}
      },
      "source": [
        "#This code pulls the data from the alpavantage api \n",
        "#Right now it is just microsoft's data\n",
        "import requests\n",
        "\n",
        "#helper function to split the time series (explained in next block of code)\n",
        "def split_sequence(sequence, n_steps):\n",
        "\tX, y = list(), list() #create empty lists to store X and y variables\n",
        "\tfor i in range(len(sequence)):\n",
        "\n",
        "\t\t# find the end of this pattern\n",
        "\t\tend_ix = i + n_steps\n",
        "\n",
        "\t\t# check if we are beyond the sequence\n",
        "\t\t#if we are, simply stop executing this block of code\n",
        "\t\tif end_ix > len(sequence)-1:\n",
        "\t\t\tbreak\n",
        "\n",
        "\t\t# gather input and output parts of the pattern\n",
        "\t\tseq_x, seq_y = sequence[i:end_ix], sequence[end_ix]\n",
        "\t\tX.append(seq_x)\n",
        "\t\ty.append(seq_y)\n",
        "  \n",
        "\treturn np.array(X), np.array(y)\n",
        " \n",
        "def our_model(ticker, DAYS_TO_PREDICT):\n",
        "  API_KEY = 'FYEEXVSKRKYAO1VI'\n",
        "  r = requests.get('https://www.alphavantage.co/query?function=TIME_SERIES_DAILY&symbol='+ticker+'&apikey='+API_KEY)\n",
        "  #Raw data from API \n",
        "  df = pd.DataFrame.from_dict(r.json(), orient=\"index\")\n",
        "  #Transposing Data and Taking column with data\n",
        "  df2 = (df.T['Time Series (Daily)'])\n",
        "  #Dropping all NAs\n",
        "  df2 = df2.dropna()\n",
        "  df_convert = df2.to_frame()\n",
        "  #We will take the data from this and use it to index our dataframe \n",
        "  df_index = list(df_convert.index)\n",
        "  #Convert to cleaned dataframe \n",
        "  df2 = pd.json_normalize(df2)\n",
        "  #We add this list to the dataframe with our actual data\n",
        "  df2['Index'] = df_index\n",
        "  #We then set the index column as our actual index\n",
        "  df2 = df2.set_index('Index')\n",
        "  #Put the data in the correct order\n",
        "  df2 = df2[::-1] #reverse the order of the dataframe\n",
        "  df2.index=pd.to_datetime(df2.index) #convert the index to a datetime object for plotting\n",
        "  #convert each column to integers for plotting and model input\n",
        "  df2['1. open']=pd.to_numeric(df2['1. open'])\n",
        "  df2['2. high']=pd.to_numeric(df2['2. high'])\n",
        "  df2['3. low']=pd.to_numeric(df2['3. low'])\n",
        "  df2['4. close']=pd.to_numeric(df2['4. close'])\n",
        "  df2['5. volume']=pd.to_numeric(df2['5. volume'])\n",
        "\n",
        "  seq_length = 5 #seq_length tells how many sequential data points are used for each element of the array\n",
        "  #5 means 5 data points will be used at a time\n",
        "  #for instance, the first element of the array will be data points 1-5\n",
        "  #the second element of the array will be data points 2-6\n",
        "  #third element will be data points 3-7, and so on\n",
        "\n",
        "  #we only need the close price data for our model\n",
        "  data = np.array(df2['4. close'])\n",
        "\n",
        "  #splitting the data with our helper function\n",
        "  X, y = split_sequence(data, seq_length)\n",
        "\n",
        "  #reshape from [samples, timesteps] into [samples, timesteps, features] for training the model\n",
        "  #the model requires these three values for input\n",
        "  n_features = 1 #our only feature, or input variable, is the closing stock price\n",
        "  X = X.reshape((X.shape[0], X.shape[1], n_features))\n",
        "\n",
        "  import tensorflow as tf #backend for keras\n",
        "  from tensorflow import keras #used for creating the CNN model\n",
        "  from keras.models import Sequential\n",
        "  from keras.layers import Flatten, Dense\n",
        "  from keras.layers.convolutional import Conv1D, MaxPooling1D #the data is 1-dimensional so we will use a 1d convolution layer\n",
        "\n",
        "  #define/setup model\n",
        "  model = Sequential()\n",
        "\n",
        "  #add a 1d convolutional layer\n",
        "  #64 filters used in the convolution operation (a somewhat arbitrary choice)\n",
        "  #kernel_size of 2 means the convolutional layer reads 2 data points at a time, applies the filters, and outputs it to the next layer\n",
        "  model.add(Conv1D(filters=64, kernel_size=2, activation='relu', input_shape=(seq_length, n_features)))\n",
        "\n",
        "  #add a pooling layer, which reduces the dimensionality of the input size\n",
        "  #takes the max value of each window of length 2\n",
        "  model.add(MaxPooling1D(pool_size=2))\n",
        "\n",
        "  #flattens the data into a 1d vector - first layer of the fully connected layers\n",
        "  model.add(Flatten())\n",
        "\n",
        "  #dense layer with relu activation\n",
        "  #outputs zero for values less than or equal to zero and keeps positive values the same\n",
        "  model.add(Dense(50, activation='relu'))\n",
        "\n",
        "  #1d dense layer to generate the predicted value\n",
        "  #only 1 dimensional because only one value is being predicted at each time point\n",
        "  model.add(Dense(1))\n",
        "\n",
        "  model.compile(optimizer='adam', loss='mse')\n",
        "\n",
        "  #the model is fitted on the training data over 100 epochs to improve and update its parameters\n",
        "  #verbose controls how detailed the output is when training the model\n",
        "  model.fit(X, y, epochs=100)\n",
        "\n",
        "  test_seq = X[-1:] #set the test sequence to start at the most recent stock values\n",
        "  preds = [] #create empty list to store predictions\n",
        "  #DAYS_TO_PREDICT=7 #number of future days to predict\n",
        "\n",
        "  #create predictions using most recent 5 data points\n",
        "  #the first prediction will assist in making the second prediction, and so on\n",
        "  for _ in range(DAYS_TO_PREDICT):\n",
        "      y_test_pred = model(test_seq) #outputs the prediction from our test sequence\n",
        "      pred = y_test_pred #assign pred to the raw output of the model for rebuilding new_seq and test_seq\n",
        "      preds.append(y_test_pred) #add the prediction to the list we will use for plotting\n",
        "      new_seq = test_seq.flatten() #flatten the output from the model into a 1d array\n",
        "      new_seq = np.append(new_seq, [pred]) #add prediction to the list the model is using to make predictions\n",
        "      new_seq = new_seq[1:] #exclude the first element from the list; use our most recent prediction for the next prediction instead\n",
        "      test_seq = new_seq.reshape(1, seq_length, 1) #reshape for the model\n",
        "  preds=np.array(preds).reshape(DAYS_TO_PREDICT,) #reshape the prediction array for plotting\n",
        "\n",
        "  #creating the datetime index for our predictions to be just after our actual data\n",
        "  predicted_index = pd.date_range(\n",
        "    start=df2.index[-2], #start 1 day beyond existing data\n",
        "    periods=DAYS_TO_PREDICT+1, #run time interval through days ahead predicted\n",
        "    closed='right') #include the last value of the time frame\n",
        "\n",
        "  #create new series with predicted prices for corresponding dates predicted\n",
        "  predicted_price = pd.Series(\n",
        "    data=preds,\n",
        "    index=predicted_index)\n",
        "  \n",
        "#   plt.figure(figsize=(15,6))\n",
        "#   plt.plot(df2['4. close'][:-1], #plot data used for training the model\n",
        "#          label='Historical Daily Price')\n",
        "#   plt.plot(predicted_price, #plot predictions\n",
        "#          label='Predicted Daily Price')\n",
        "#   plt.title(label=ticker+\" daily closing price\")\n",
        "#   plt.legend()\n",
        "#   plt.savefig(\"pred_prices.png\")\n",
        "  \n",
        "  return predicted_price\n",
        "  \n",
        "\n",
        "  #plt.figure(figsize=(15,6))\n",
        "  #plot data used for training the model\n",
        "  #plt.plot(df2[df2.index>=\"2020-08-01\"]['4. close'][:-1],\n",
        "         #label='Historical Daily Price')\n",
        "\n",
        "  #add the predcited prices to the plot\n",
        "  #plt.plot(predicted_price,\n",
        "          #label='Predicted Daily Price')\n",
        "  #plt.title(ticker + \" daily closing price (2020)\\nPredction for \"+str(predicted_price.index[0].date())+\" to \"+str(predicted_price.index[-1].date()))\n",
        "  #plt.legend()\n",
        "  #return plt.show()\n"
      ],
      "execution_count": null,
      "outputs": []
    },
    {
      "cell_type": "code",
      "metadata": {
        "id": "m03NoKa6uW1R",
        "colab_type": "code",
        "colab": {
          "base_uri": "https://localhost:8080/",
          "height": 1000
        },
        "outputId": "341ec97d-a09a-4afb-fdd0-ce95fd0c253d"
      },
      "source": [
        "#source: https://medium.com/@kshitijvijay271199/flask-on-google-colab-f6525986797b\n",
        "#other source: https://www.youtube.com/watch?v=Pc8WdnIdXZg\n",
        "from flask import Flask, request #importing Flask to run the model on a host\n",
        "from flask_ngrok import run_with_ngrok #importing ngrok to make Flask apps available on the internet (in this case, temporarily)\n",
        "from pyngrok import ngrok\n",
        "app = Flask(__name__)\n",
        "#!ngrok authtoken 1hsQiSSJ05rnXkZfXKgyLkgMMbn_6Bfshx2Do22MRtsZYT9aM\n",
        "#!killall ngrok\n",
        "#get_ipython().system_raw('./ngrok http 5000 &')\n",
        "#!ngrok http -subdomain=priceforecasting 5000 \n",
        "\n",
        "#!ngrok by @priceforecasting\n",
        "run_with_ngrok(app)   #starts ngrok when the app is run\n",
        "@app.route(\"/\") #Assigns \"/\" as the URL for the home function, using Flask\n",
        "def home():\n",
        "  #return a simple form with a title and place for ticker and a button named \"Predict\"\n",
        "    return '''<form action='/predict' method=\"post\" class=\"col s12\">\n",
        "      <div class=\"row\">\n",
        "        <div class=\"input-field col s4\">\n",
        "            <label for=\"first_name\"><b>Ticker</b></label>\n",
        "            <br>\n",
        "          <input placeholder=\"Ticker\" name=\"Ticker\" id=\"first_name\" type=\"text\" class=\"validate\">\n",
        "        </div> \n",
        "        <div class=\"row center\">\n",
        "\n",
        "          <button type=\"submit\" class=\"btn-large waves-effect waves-light orange\">Predict</button>\n",
        "        </div>\n",
        "      </div>\n",
        "      </form>\n",
        "        '''\n",
        "@app.route('/predict',methods=['POST','GET']) #Assigns \"/predict\" as the URL for the predict function, using Flask\n",
        "def predict():\n",
        "  ticker = request.form[\"Ticker\"] #extract the ticker \n",
        "  prediction = our_model(ticker, 7) #supply the ticker to the model and get the 7-day prediction from the model\n",
        "  table = prediction.to_frame() #convert the predicted results in pandas series to pandas dataframe\n",
        "  table.columns = [\"Predicted Close Price\"] #add a column named \"Predicted Close Price\"\n",
        "  html = table.to_html() #convert the dataframe into the html version\n",
        "  #next, return the table of dates along with the Predicted Close Prices\n",
        "  return '''<form action='/predict' method=\"post\" class=\"col s12\">\n",
        "      <div class=\"row\">\n",
        "        <div class=\"input-field col s4\">\n",
        "            <label for=\"first_name\"><b>Ticker</b></label>\n",
        "            <br>\n",
        "          <input placeholder=\"Ticker\" name=\"Ticker\" id=\"first_name\" type=\"text\" class=\"validate\">\n",
        "        </div> \n",
        "        <div class=\"row center\">\n",
        "\n",
        "          <button type=\"submit\" class=\"btn-large waves-effect waves-light orange\">Predict</button>\n",
        "        </div>\n",
        "      </div>\n",
        "      </form>\n",
        "      </div>\n",
        "\n",
        "      <br>\n",
        "        ''' + \"<h2> 7-day forecast for \" + ticker + \"</h2>\"+ html + '''<br>\n",
        "\n",
        "    </div>\n",
        "        ''' \n",
        "\n",
        "app.run() #run the Flask app\n"
      ],
      "execution_count": null,
      "outputs": [
        {
          "output_type": "stream",
          "text": [
            " * Serving Flask app \"__main__\" (lazy loading)\n",
            " * Environment: production\n",
            "\u001b[31m   WARNING: This is a development server. Do not use it in a production deployment.\u001b[0m\n",
            "\u001b[2m   Use a production WSGI server instead.\u001b[0m\n",
            " * Debug mode: off\n"
          ],
          "name": "stdout"
        },
        {
          "output_type": "stream",
          "text": [
            " * Running on http://127.0.0.1:5000/ (Press CTRL+C to quit)\n"
          ],
          "name": "stderr"
        },
        {
          "output_type": "stream",
          "text": [
            " * Running on http://f1472c9916f6.ngrok.io\n",
            " * Traffic stats available on http://127.0.0.1:4040\n"
          ],
          "name": "stdout"
        },
        {
          "output_type": "stream",
          "text": [
            "127.0.0.1 - - [23/Sep/2020 14:41:31] \"\u001b[37mGET / HTTP/1.1\u001b[0m\" 200 -\n",
            "127.0.0.1 - - [23/Sep/2020 14:41:32] \"\u001b[33mGET /favicon.ico HTTP/1.1\u001b[0m\" 404 -\n"
          ],
          "name": "stderr"
        },
        {
          "output_type": "stream",
          "text": [
            "Epoch 1/100\n",
            "3/3 [==============================] - 0s 3ms/step - loss: 2721260.5000\n",
            "Epoch 2/100\n",
            "3/3 [==============================] - 0s 2ms/step - loss: 2034966.2500\n",
            "Epoch 3/100\n",
            "3/3 [==============================] - 0s 2ms/step - loss: 1458245.3750\n",
            "Epoch 4/100\n",
            "3/3 [==============================] - 0s 2ms/step - loss: 982661.5625\n",
            "Epoch 5/100\n",
            "3/3 [==============================] - 0s 3ms/step - loss: 611461.0625\n",
            "Epoch 6/100\n",
            "3/3 [==============================] - 0s 2ms/step - loss: 349883.7188\n",
            "Epoch 7/100\n",
            "3/3 [==============================] - 0s 2ms/step - loss: 177443.2656\n",
            "Epoch 8/100\n",
            "3/3 [==============================] - 0s 2ms/step - loss: 69589.5234\n",
            "Epoch 9/100\n",
            "3/3 [==============================] - 0s 2ms/step - loss: 15095.6367\n",
            "Epoch 10/100\n",
            "3/3 [==============================] - 0s 2ms/step - loss: 2722.0681\n",
            "Epoch 11/100\n",
            "3/3 [==============================] - 0s 2ms/step - loss: 13751.5449\n",
            "Epoch 12/100\n",
            "3/3 [==============================] - 0s 2ms/step - loss: 30083.4043\n",
            "Epoch 13/100\n",
            "3/3 [==============================] - 0s 2ms/step - loss: 38515.8438\n",
            "Epoch 14/100\n",
            "3/3 [==============================] - 0s 2ms/step - loss: 35563.6289\n",
            "Epoch 15/100\n",
            "3/3 [==============================] - 0s 2ms/step - loss: 25287.2324\n",
            "Epoch 16/100\n",
            "3/3 [==============================] - 0s 2ms/step - loss: 13972.6436\n",
            "Epoch 17/100\n",
            "3/3 [==============================] - 0s 2ms/step - loss: 5571.2827\n",
            "Epoch 18/100\n",
            "3/3 [==============================] - 0s 2ms/step - loss: 2152.3545\n",
            "Epoch 19/100\n",
            "3/3 [==============================] - 0s 3ms/step - loss: 1859.6365\n",
            "Epoch 20/100\n",
            "3/3 [==============================] - 0s 3ms/step - loss: 2958.5356\n",
            "Epoch 21/100\n",
            "3/3 [==============================] - 0s 2ms/step - loss: 4026.3049\n",
            "Epoch 22/100\n",
            "3/3 [==============================] - 0s 4ms/step - loss: 4324.1519\n",
            "Epoch 23/100\n",
            "3/3 [==============================] - 0s 2ms/step - loss: 3813.0454\n",
            "Epoch 24/100\n",
            "3/3 [==============================] - 0s 2ms/step - loss: 2978.9321\n",
            "Epoch 25/100\n",
            "3/3 [==============================] - 0s 3ms/step - loss: 2203.9573\n",
            "Epoch 26/100\n",
            "3/3 [==============================] - 0s 2ms/step - loss: 1683.6941\n",
            "Epoch 27/100\n",
            "3/3 [==============================] - 0s 2ms/step - loss: 1651.4668\n",
            "Epoch 28/100\n",
            "3/3 [==============================] - 0s 2ms/step - loss: 1728.0653\n",
            "Epoch 29/100\n",
            "3/3 [==============================] - 0s 2ms/step - loss: 1816.9940\n",
            "Epoch 30/100\n",
            "3/3 [==============================] - 0s 2ms/step - loss: 1846.6638\n",
            "Epoch 31/100\n",
            "3/3 [==============================] - 0s 2ms/step - loss: 1796.5853\n",
            "Epoch 32/100\n",
            "3/3 [==============================] - 0s 2ms/step - loss: 1688.1748\n",
            "Epoch 33/100\n",
            "3/3 [==============================] - 0s 2ms/step - loss: 1641.1564\n",
            "Epoch 34/100\n",
            "3/3 [==============================] - 0s 2ms/step - loss: 1596.9556\n",
            "Epoch 35/100\n",
            "3/3 [==============================] - 0s 2ms/step - loss: 1611.7628\n",
            "Epoch 36/100\n",
            "3/3 [==============================] - 0s 2ms/step - loss: 1619.2513\n",
            "Epoch 37/100\n",
            "3/3 [==============================] - 0s 2ms/step - loss: 1630.0339\n",
            "Epoch 38/100\n",
            "3/3 [==============================] - 0s 3ms/step - loss: 1625.9220\n",
            "Epoch 39/100\n",
            "3/3 [==============================] - 0s 3ms/step - loss: 1615.0011\n",
            "Epoch 40/100\n",
            "3/3 [==============================] - 0s 3ms/step - loss: 1607.8907\n",
            "Epoch 41/100\n",
            "3/3 [==============================] - 0s 2ms/step - loss: 1598.9086\n",
            "Epoch 42/100\n",
            "3/3 [==============================] - 0s 3ms/step - loss: 1601.9357\n",
            "Epoch 43/100\n",
            "3/3 [==============================] - 0s 3ms/step - loss: 1603.9147\n",
            "Epoch 44/100\n",
            "3/3 [==============================] - 0s 3ms/step - loss: 1606.9119\n",
            "Epoch 45/100\n",
            "3/3 [==============================] - 0s 2ms/step - loss: 1606.3726\n",
            "Epoch 46/100\n",
            "3/3 [==============================] - 0s 2ms/step - loss: 1609.5905\n",
            "Epoch 47/100\n",
            "3/3 [==============================] - 0s 3ms/step - loss: 1602.5725\n",
            "Epoch 48/100\n",
            "3/3 [==============================] - 0s 1ms/step - loss: 1602.3958\n",
            "Epoch 49/100\n",
            "3/3 [==============================] - 0s 2ms/step - loss: 1603.4951\n",
            "Epoch 50/100\n",
            "3/3 [==============================] - 0s 3ms/step - loss: 1602.5393\n",
            "Epoch 51/100\n",
            "3/3 [==============================] - 0s 2ms/step - loss: 1602.1730\n",
            "Epoch 52/100\n",
            "3/3 [==============================] - 0s 2ms/step - loss: 1602.1577\n",
            "Epoch 53/100\n",
            "3/3 [==============================] - 0s 2ms/step - loss: 1602.0809\n",
            "Epoch 54/100\n",
            "3/3 [==============================] - 0s 2ms/step - loss: 1601.3112\n",
            "Epoch 55/100\n",
            "3/3 [==============================] - 0s 2ms/step - loss: 1603.1476\n",
            "Epoch 56/100\n",
            "3/3 [==============================] - 0s 2ms/step - loss: 1601.5507\n",
            "Epoch 57/100\n",
            "3/3 [==============================] - 0s 2ms/step - loss: 1599.9855\n",
            "Epoch 58/100\n",
            "3/3 [==============================] - 0s 2ms/step - loss: 1600.5385\n",
            "Epoch 59/100\n",
            "3/3 [==============================] - 0s 3ms/step - loss: 1603.2605\n",
            "Epoch 60/100\n",
            "3/3 [==============================] - 0s 3ms/step - loss: 1600.7700\n",
            "Epoch 61/100\n",
            "3/3 [==============================] - 0s 2ms/step - loss: 1601.7028\n",
            "Epoch 62/100\n",
            "3/3 [==============================] - 0s 2ms/step - loss: 1599.6279\n",
            "Epoch 63/100\n",
            "3/3 [==============================] - 0s 2ms/step - loss: 1600.9711\n",
            "Epoch 64/100\n",
            "3/3 [==============================] - 0s 2ms/step - loss: 1600.5823\n",
            "Epoch 65/100\n",
            "3/3 [==============================] - 0s 2ms/step - loss: 1599.7987\n",
            "Epoch 66/100\n",
            "3/3 [==============================] - 0s 2ms/step - loss: 1599.5447\n",
            "Epoch 67/100\n",
            "3/3 [==============================] - 0s 2ms/step - loss: 1604.8870\n",
            "Epoch 68/100\n",
            "3/3 [==============================] - 0s 2ms/step - loss: 1602.4951\n",
            "Epoch 69/100\n",
            "3/3 [==============================] - 0s 2ms/step - loss: 1599.3735\n",
            "Epoch 70/100\n",
            "3/3 [==============================] - 0s 2ms/step - loss: 1599.1425\n",
            "Epoch 71/100\n",
            "3/3 [==============================] - 0s 2ms/step - loss: 1605.0842\n",
            "Epoch 72/100\n",
            "3/3 [==============================] - 0s 2ms/step - loss: 1599.0219\n",
            "Epoch 73/100\n",
            "3/3 [==============================] - 0s 2ms/step - loss: 1598.5112\n",
            "Epoch 74/100\n",
            "3/3 [==============================] - 0s 2ms/step - loss: 1599.9774\n",
            "Epoch 75/100\n",
            "3/3 [==============================] - 0s 2ms/step - loss: 1601.7698\n",
            "Epoch 76/100\n",
            "3/3 [==============================] - 0s 2ms/step - loss: 1598.1758\n",
            "Epoch 77/100\n",
            "3/3 [==============================] - 0s 2ms/step - loss: 1600.4717\n",
            "Epoch 78/100\n",
            "3/3 [==============================] - 0s 2ms/step - loss: 1598.5555\n",
            "Epoch 79/100\n",
            "3/3 [==============================] - 0s 2ms/step - loss: 1598.4293\n",
            "Epoch 80/100\n",
            "3/3 [==============================] - 0s 4ms/step - loss: 1598.5020\n",
            "Epoch 81/100\n",
            "3/3 [==============================] - 0s 2ms/step - loss: 1598.3263\n",
            "Epoch 82/100\n",
            "3/3 [==============================] - 0s 2ms/step - loss: 1597.4930\n",
            "Epoch 83/100\n",
            "3/3 [==============================] - 0s 2ms/step - loss: 1597.5107\n",
            "Epoch 84/100\n",
            "3/3 [==============================] - 0s 2ms/step - loss: 1597.8181\n",
            "Epoch 85/100\n",
            "3/3 [==============================] - 0s 2ms/step - loss: 1597.4014\n",
            "Epoch 86/100\n",
            "3/3 [==============================] - 0s 2ms/step - loss: 1599.3197\n",
            "Epoch 87/100\n",
            "3/3 [==============================] - 0s 2ms/step - loss: 1596.8740\n",
            "Epoch 88/100\n",
            "3/3 [==============================] - 0s 4ms/step - loss: 1597.6249\n",
            "Epoch 89/100\n",
            "3/3 [==============================] - 0s 2ms/step - loss: 1598.7236\n",
            "Epoch 90/100\n",
            "3/3 [==============================] - 0s 2ms/step - loss: 1600.8663\n",
            "Epoch 91/100\n",
            "3/3 [==============================] - 0s 2ms/step - loss: 1596.4752\n",
            "Epoch 92/100\n",
            "3/3 [==============================] - 0s 3ms/step - loss: 1598.3679\n",
            "Epoch 93/100\n",
            "3/3 [==============================] - 0s 3ms/step - loss: 1602.7632\n",
            "Epoch 94/100\n",
            "3/3 [==============================] - 0s 2ms/step - loss: 1599.9747\n",
            "Epoch 95/100\n",
            "3/3 [==============================] - 0s 2ms/step - loss: 1596.4598\n",
            "Epoch 96/100\n",
            "3/3 [==============================] - 0s 2ms/step - loss: 1596.5137\n",
            "Epoch 97/100\n",
            "3/3 [==============================] - 0s 2ms/step - loss: 1603.5677\n",
            "Epoch 98/100\n",
            "3/3 [==============================] - 0s 3ms/step - loss: 1596.6859\n",
            "Epoch 99/100\n",
            "3/3 [==============================] - 0s 6ms/step - loss: 1598.2968\n",
            "Epoch 100/100\n",
            "3/3 [==============================] - 0s 2ms/step - loss: 1595.7975\n"
          ],
          "name": "stdout"
        },
        {
          "output_type": "stream",
          "text": [
            "127.0.0.1 - - [23/Sep/2020 14:41:37] \"\u001b[37mPOST /predict HTTP/1.1\u001b[0m\" 200 -\n"
          ],
          "name": "stderr"
        }
      ]
    },
    {
      "cell_type": "code",
      "metadata": {
        "id": "oA1HGqpS6ha3",
        "colab_type": "code",
        "colab": {}
      },
      "source": [
        ""
      ],
      "execution_count": null,
      "outputs": []
    }
  ]
}